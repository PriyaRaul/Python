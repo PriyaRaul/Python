{
  "nbformat": 4,
  "nbformat_minor": 0,
  "metadata": {
    "colab": {
      "name": "Boston.ipynb",
      "provenance": []
    },
    "kernelspec": {
      "name": "python3",
      "display_name": "Python 3"
    },
    "language_info": {
      "name": "python"
    }
  },
  "cells": [
    {
      "cell_type": "markdown",
      "metadata": {
        "id": "uRjFaf5XTSHx"
      },
      "source": [
        "# **Problem 2**"
      ]
    },
    {
      "cell_type": "code",
      "metadata": {
        "id": "Up72a83CD8yl"
      },
      "source": [
        "import matplotlib.pyplot as plt\n",
        "import seaborn as sns\n",
        "import io"
      ],
      "execution_count": null,
      "outputs": []
    },
    {
      "cell_type": "code",
      "metadata": {
        "colab": {
          "base_uri": "https://localhost:8080/"
        },
        "id": "hn9nTMtMCcvR",
        "outputId": "53dfa888-4fd6-4d93-b8e5-571cdffd1ca4"
      },
      "source": [
        "from google.colab import files\n",
        "import numpy as np\n",
        "import pandas as pd\n",
        "import statsmodels.api as sm\n",
        "from statsmodels.formula.api import ols\n",
        "from sklearn.linear_model import LinearRegression\n",
        "import scipy.stats as stats"
      ],
      "execution_count": null,
      "outputs": [
        {
          "output_type": "stream",
          "name": "stderr",
          "text": [
            "/usr/local/lib/python3.7/dist-packages/statsmodels/tools/_testing.py:19: FutureWarning: pandas.util.testing is deprecated. Use the functions in the public API at pandas.testing instead.\n",
            "  import pandas.util.testing as tm\n"
          ]
        }
      ]
    },
    {
      "cell_type": "code",
      "metadata": {
        "colab": {
          "resources": {
            "http://localhost:8080/nbextensions/google.colab/files.js": {
              "data": "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",
              "ok": true,
              "headers": [
                [
                  "content-type",
                  "application/javascript"
                ]
              ],
              "status": 200,
              "status_text": ""
            }
          },
          "base_uri": "https://localhost:8080/",
          "height": 72
        },
        "id": "I4_QrQKwD8_e",
        "outputId": "d9237410-681a-42d3-f15b-515c786aff6f"
      },
      "source": [
        "uploaded=files.upload()"
      ],
      "execution_count": null,
      "outputs": [
        {
          "output_type": "display_data",
          "data": {
            "text/html": [
              "\n",
              "     <input type=\"file\" id=\"files-9bdb4245-4605-45f2-ab7f-b813125ee20a\" name=\"files[]\" multiple disabled\n",
              "        style=\"border:none\" />\n",
              "     <output id=\"result-9bdb4245-4605-45f2-ab7f-b813125ee20a\">\n",
              "      Upload widget is only available when the cell has been executed in the\n",
              "      current browser session. Please rerun this cell to enable.\n",
              "      </output>\n",
              "      <script src=\"/nbextensions/google.colab/files.js\"></script> "
            ],
            "text/plain": [
              "<IPython.core.display.HTML object>"
            ]
          },
          "metadata": {}
        },
        {
          "output_type": "stream",
          "name": "stdout",
          "text": [
            "Saving Boston.csv to Boston.csv\n"
          ]
        }
      ]
    },
    {
      "cell_type": "code",
      "metadata": {
        "colab": {
          "base_uri": "https://localhost:8080/"
        },
        "id": "lDUz63IjD9LQ",
        "outputId": "39296c46-0fbc-474c-e760-f9a00b229e36"
      },
      "source": [
        "for fn in uploaded.keys():\n",
        " print('file\"{name}\" length{length}'.format(name=fn,length=len(uploaded[fn])))\n",
        "boston=pd.read_csv(io.StringIO(uploaded['Boston.csv'].decode('utf-8')))"
      ],
      "execution_count": null,
      "outputs": [
        {
          "output_type": "stream",
          "name": "stdout",
          "text": [
            "file\"Boston.csv\" length37658\n"
          ]
        }
      ]
    },
    {
      "cell_type": "code",
      "metadata": {
        "colab": {
          "base_uri": "https://localhost:8080/",
          "height": 204
        },
        "id": "SY3KVW4ED9Ro",
        "outputId": "9803c8a8-8570-427e-dad9-f1597d92ce11"
      },
      "source": [
        "boston.head()\n"
      ],
      "execution_count": null,
      "outputs": [
        {
          "output_type": "execute_result",
          "data": {
            "text/html": [
              "<div>\n",
              "<style scoped>\n",
              "    .dataframe tbody tr th:only-of-type {\n",
              "        vertical-align: middle;\n",
              "    }\n",
              "\n",
              "    .dataframe tbody tr th {\n",
              "        vertical-align: top;\n",
              "    }\n",
              "\n",
              "    .dataframe thead th {\n",
              "        text-align: right;\n",
              "    }\n",
              "</style>\n",
              "<table border=\"1\" class=\"dataframe\">\n",
              "  <thead>\n",
              "    <tr style=\"text-align: right;\">\n",
              "      <th></th>\n",
              "      <th>Unnamed: 0</th>\n",
              "      <th>crim</th>\n",
              "      <th>zn</th>\n",
              "      <th>indus</th>\n",
              "      <th>chas</th>\n",
              "      <th>nox</th>\n",
              "      <th>rm</th>\n",
              "      <th>age</th>\n",
              "      <th>dis</th>\n",
              "      <th>rad</th>\n",
              "      <th>tax</th>\n",
              "      <th>ptratio</th>\n",
              "      <th>black</th>\n",
              "      <th>lstat</th>\n",
              "      <th>medv</th>\n",
              "    </tr>\n",
              "  </thead>\n",
              "  <tbody>\n",
              "    <tr>\n",
              "      <th>0</th>\n",
              "      <td>1</td>\n",
              "      <td>0.00632</td>\n",
              "      <td>18.0</td>\n",
              "      <td>2.31</td>\n",
              "      <td>0</td>\n",
              "      <td>0.538</td>\n",
              "      <td>6.575</td>\n",
              "      <td>65.2</td>\n",
              "      <td>4.0900</td>\n",
              "      <td>1</td>\n",
              "      <td>296</td>\n",
              "      <td>15.3</td>\n",
              "      <td>396.90</td>\n",
              "      <td>4.98</td>\n",
              "      <td>24.0</td>\n",
              "    </tr>\n",
              "    <tr>\n",
              "      <th>1</th>\n",
              "      <td>2</td>\n",
              "      <td>0.02731</td>\n",
              "      <td>0.0</td>\n",
              "      <td>7.07</td>\n",
              "      <td>0</td>\n",
              "      <td>0.469</td>\n",
              "      <td>6.421</td>\n",
              "      <td>78.9</td>\n",
              "      <td>4.9671</td>\n",
              "      <td>2</td>\n",
              "      <td>242</td>\n",
              "      <td>17.8</td>\n",
              "      <td>396.90</td>\n",
              "      <td>9.14</td>\n",
              "      <td>21.6</td>\n",
              "    </tr>\n",
              "    <tr>\n",
              "      <th>2</th>\n",
              "      <td>3</td>\n",
              "      <td>0.02729</td>\n",
              "      <td>0.0</td>\n",
              "      <td>7.07</td>\n",
              "      <td>0</td>\n",
              "      <td>0.469</td>\n",
              "      <td>7.185</td>\n",
              "      <td>61.1</td>\n",
              "      <td>4.9671</td>\n",
              "      <td>2</td>\n",
              "      <td>242</td>\n",
              "      <td>17.8</td>\n",
              "      <td>392.83</td>\n",
              "      <td>4.03</td>\n",
              "      <td>34.7</td>\n",
              "    </tr>\n",
              "    <tr>\n",
              "      <th>3</th>\n",
              "      <td>4</td>\n",
              "      <td>0.03237</td>\n",
              "      <td>0.0</td>\n",
              "      <td>2.18</td>\n",
              "      <td>0</td>\n",
              "      <td>0.458</td>\n",
              "      <td>6.998</td>\n",
              "      <td>45.8</td>\n",
              "      <td>6.0622</td>\n",
              "      <td>3</td>\n",
              "      <td>222</td>\n",
              "      <td>18.7</td>\n",
              "      <td>394.63</td>\n",
              "      <td>2.94</td>\n",
              "      <td>33.4</td>\n",
              "    </tr>\n",
              "    <tr>\n",
              "      <th>4</th>\n",
              "      <td>5</td>\n",
              "      <td>0.06905</td>\n",
              "      <td>0.0</td>\n",
              "      <td>2.18</td>\n",
              "      <td>0</td>\n",
              "      <td>0.458</td>\n",
              "      <td>7.147</td>\n",
              "      <td>54.2</td>\n",
              "      <td>6.0622</td>\n",
              "      <td>3</td>\n",
              "      <td>222</td>\n",
              "      <td>18.7</td>\n",
              "      <td>396.90</td>\n",
              "      <td>5.33</td>\n",
              "      <td>36.2</td>\n",
              "    </tr>\n",
              "  </tbody>\n",
              "</table>\n",
              "</div>"
            ],
            "text/plain": [
              "   Unnamed: 0     crim    zn  indus  chas  ...  tax  ptratio   black  lstat  medv\n",
              "0           1  0.00632  18.0   2.31     0  ...  296     15.3  396.90   4.98  24.0\n",
              "1           2  0.02731   0.0   7.07     0  ...  242     17.8  396.90   9.14  21.6\n",
              "2           3  0.02729   0.0   7.07     0  ...  242     17.8  392.83   4.03  34.7\n",
              "3           4  0.03237   0.0   2.18     0  ...  222     18.7  394.63   2.94  33.4\n",
              "4           5  0.06905   0.0   2.18     0  ...  222     18.7  396.90   5.33  36.2\n",
              "\n",
              "[5 rows x 15 columns]"
            ]
          },
          "metadata": {},
          "execution_count": 5
        }
      ]
    },
    {
      "cell_type": "markdown",
      "metadata": {
        "id": "gmOAyUg0Snd6"
      },
      "source": [
        "**a. How  many  rows  are  in  this  data  set?   How  many  columns?   What  do  the  rows  and columns represent?**"
      ]
    },
    {
      "cell_type": "code",
      "metadata": {
        "colab": {
          "base_uri": "https://localhost:8080/"
        },
        "id": "8-iTuCbTD9Uc",
        "outputId": "27d2ea6c-0f8a-44e4-fb66-48f43980d01e"
      },
      "source": [
        "boston.shape"
      ],
      "execution_count": null,
      "outputs": [
        {
          "output_type": "execute_result",
          "data": {
            "text/plain": [
              "(506, 15)"
            ]
          },
          "metadata": {},
          "execution_count": 6
        }
      ]
    },
    {
      "cell_type": "markdown",
      "metadata": {
        "id": "aWbeE4ZSSqhy"
      },
      "source": [
        "The corrected Boston data set has 506 rows and 15 columns. Each row represents a particular details of land within the city of Boston. \n",
        "\n",
        "*   Crim: Crime rate\n",
        "*   Chas: Land is accross the Charles River or not\n",
        "*   nox: Nitric oxides concentration\n",
        "*   rm: Average number of rooms  \n",
        "*   dis: Distance from the Boston employment centers\n",
        "*   tax: Property tax rate\n",
        "*   ptratio: Pupil-teacher ratio\n",
        "*   black: proportion of black residents \n",
        "*   lstat: Percent of land owners with lower status\n",
        "*   medv: Median value\n"
      ]
    },
    {
      "cell_type": "markdown",
      "metadata": {
        "id": "FTLSL4dOWCyW"
      },
      "source": [
        "**b. Make some pairwise scatterplots of the predictors (columns) in this data set.  Describe your findings.**"
      ]
    },
    {
      "cell_type": "code",
      "metadata": {
        "colab": {
          "base_uri": "https://localhost:8080/",
          "height": 374
        },
        "id": "7Qelg_zXD9XF",
        "outputId": "4dc0f3eb-7dc3-4410-c725-65cb61d2d9b1"
      },
      "source": [
        "lstatMedv = sns.pairplot(boston, x_vars = [\"crim\",\"lstat\",\"dis\"], y_vars = [\"medv\"], height = 5)"
      ],
      "execution_count": null,
      "outputs": [
        {
          "output_type": "display_data",
          "data": {
            "image/png": "[encoded data removed]",
            "text/plain": [
              "<Figure size 1080x360 with 3 Axes>"
            ]
          },
          "metadata": {
            "needs_background": "light"
          }
        }
      ]
    },
    {
      "cell_type": "markdown",
      "metadata": {
        "id": "vMMDxfafWW_a"
      },
      "source": [
        "land with higher median values have a greater proportion of lower-status residence. Crime rate is more at land with less median value."
      ]
    },
    {
      "cell_type": "code",
      "metadata": {
        "colab": {
          "base_uri": "https://localhost:8080/",
          "height": 369
        },
        "id": "cduR9vB4Xifx",
        "outputId": "3d5a2f5b-bac8-4e27-93ce-2d6d39e93ef5"
      },
      "source": [
        "chasmedv = sns.catplot(x = \"chas\", y = \"medv\", kind = \"box\", order = [0, 1], data = boston)"
      ],
      "execution_count": null,
      "outputs": [
        {
          "output_type": "display_data",
          "data": {
            "image/png": "[encoded data removed]",
            "text/plain": [
              "<Figure size 360x360 with 1 Axes>"
            ]
          },
          "metadata": {
            "needs_background": "light"
          }
        }
      ]
    },
    {
      "cell_type": "markdown",
      "metadata": {
        "id": "HAmHUo0-XumB"
      },
      "source": [
        "From above box plot we can say that land who borders Charles river are higher in median value"
      ]
    },
    {
      "cell_type": "markdown",
      "metadata": {
        "id": "2Pixhvx5X-kN"
      },
      "source": [
        "**c. Are  any  of  the  predictors  associated  with  per  capita  crime  rate?   If  so,  explain  the relationship.**"
      ]
    },
    {
      "cell_type": "code",
      "metadata": {
        "colab": {
          "base_uri": "https://localhost:8080/",
          "height": 331
        },
        "id": "noXmplOgM5Z-",
        "outputId": "561256a4-2726-460b-a7a2-4172dff82d4e"
      },
      "source": [
        "scatterplot = sns.pairplot(boston, x_vars = [\"black\", \"lstat\", \"medv\", \"dis\"], y_vars = [\"crim\"], height = 5)"
      ],
      "execution_count": null,
      "outputs": [
        {
          "output_type": "display_data",
          "data": {
            "image/png": "[encoded data removed]",
            "text/plain": [
              "<Figure size 1440x360 with 4 Axes>"
            ]
          },
          "metadata": {
            "needs_background": "light"
          }
        }
      ]
    },
    {
      "cell_type": "markdown",
      "metadata": {
        "id": "bzVjHoh9Na2Z"
      },
      "source": [
        "There is relationships between crime rate and median value, lower status residents, and distance from Boston employment centers.\n",
        "Land with lower home values have higher crime rates.Lands which are close Boston employment centers have higher crime rate.\n",
        "Land with higher rate of lower status residents have higher crime rates."
      ]
    },
    {
      "cell_type": "markdown",
      "metadata": {
        "id": "mmO3LjQ1amIQ"
      },
      "source": [
        "**d. Do  any  of  the  suburbs  of  Boston  appear  to  have  particularly  high  crime  rates?   Taxrates?  Pupil-teacher ratios?  Comment on the range of each predictor.**"
      ]
    },
    {
      "cell_type": "code",
      "metadata": {
        "colab": {
          "base_uri": "https://localhost:8080/",
          "height": 407
        },
        "id": "EuUwQO-INSrd",
        "outputId": "26bd188b-0fd8-432d-9103-dd100cc44d6c"
      },
      "source": [
        "fig, axes = plt.subplots(nrows = 1, ncols = 3, figsize = (20, 5))\n",
        "sns.distplot(boston[\"crim\"], kde = False, ax = axes[0])\n",
        "axes[0].set(xlabel = \"\", title = \"barchart for capita crime rate\")\n",
        "sns.distplot(boston[\"tax\"], bins = 20, kde = False, ax = axes[1])\n",
        "axes[1].set(xlabel = \"\", title = \"barchart for tax rate\")\n",
        "sns.distplot(boston[\"ptratio\"], kde = False, ax = axes[2])\n",
        "axes[2].set(xlabel = \"\", title = \"barchart for pupil-teacher ratio\")"
      ],
      "execution_count": null,
      "outputs": [
        {
          "output_type": "stream",
          "name": "stderr",
          "text": [
            "/usr/local/lib/python3.7/dist-packages/seaborn/distributions.py:2619: FutureWarning: `distplot` is a deprecated function and will be removed in a future version. Please adapt your code to use either `displot` (a figure-level function with similar flexibility) or `histplot` (an axes-level function for histograms).\n",
            "  warnings.warn(msg, FutureWarning)\n"
          ]
        },
        {
          "output_type": "execute_result",
          "data": {
            "text/plain": [
              "[Text(0.5, 0, ''), Text(0.5, 1.0, 'barchart for pupil-teacher ratio')]"
            ]
          },
          "metadata": {},
          "execution_count": 7
        },
        {
          "output_type": "display_data",
          "data": {
            "image/png": "[encoded data removed]",
            "text/plain": [
              "<Figure size 1440x360 with 3 Axes>"
            ]
          },
          "metadata": {
            "needs_background": "light"
          }
        }
      ]
    },
    {
      "cell_type": "code",
      "metadata": {
        "colab": {
          "base_uri": "https://localhost:8080/",
          "height": 297
        },
        "id": "0HXkiDaqchTY",
        "outputId": "447da334-1af4-4627-c793-801701b360e6"
      },
      "source": [
        "boston.loc[:, [\"crim\", \"tax\", \"ptratio\"]].describe()"
      ],
      "execution_count": null,
      "outputs": [
        {
          "output_type": "execute_result",
          "data": {
            "text/html": [
              "<div>\n",
              "<style scoped>\n",
              "    .dataframe tbody tr th:only-of-type {\n",
              "        vertical-align: middle;\n",
              "    }\n",
              "\n",
              "    .dataframe tbody tr th {\n",
              "        vertical-align: top;\n",
              "    }\n",
              "\n",
              "    .dataframe thead th {\n",
              "        text-align: right;\n",
              "    }\n",
              "</style>\n",
              "<table border=\"1\" class=\"dataframe\">\n",
              "  <thead>\n",
              "    <tr style=\"text-align: right;\">\n",
              "      <th></th>\n",
              "      <th>crim</th>\n",
              "      <th>tax</th>\n",
              "      <th>ptratio</th>\n",
              "    </tr>\n",
              "  </thead>\n",
              "  <tbody>\n",
              "    <tr>\n",
              "      <th>count</th>\n",
              "      <td>506.000000</td>\n",
              "      <td>506.000000</td>\n",
              "      <td>506.000000</td>\n",
              "    </tr>\n",
              "    <tr>\n",
              "      <th>mean</th>\n",
              "      <td>3.613524</td>\n",
              "      <td>408.237154</td>\n",
              "      <td>18.455534</td>\n",
              "    </tr>\n",
              "    <tr>\n",
              "      <th>std</th>\n",
              "      <td>8.601545</td>\n",
              "      <td>168.537116</td>\n",
              "      <td>2.164946</td>\n",
              "    </tr>\n",
              "    <tr>\n",
              "      <th>min</th>\n",
              "      <td>0.006320</td>\n",
              "      <td>187.000000</td>\n",
              "      <td>12.600000</td>\n",
              "    </tr>\n",
              "    <tr>\n",
              "      <th>25%</th>\n",
              "      <td>0.082045</td>\n",
              "      <td>279.000000</td>\n",
              "      <td>17.400000</td>\n",
              "    </tr>\n",
              "    <tr>\n",
              "      <th>50%</th>\n",
              "      <td>0.256510</td>\n",
              "      <td>330.000000</td>\n",
              "      <td>19.050000</td>\n",
              "    </tr>\n",
              "    <tr>\n",
              "      <th>75%</th>\n",
              "      <td>3.677082</td>\n",
              "      <td>666.000000</td>\n",
              "      <td>20.200000</td>\n",
              "    </tr>\n",
              "    <tr>\n",
              "      <th>max</th>\n",
              "      <td>88.976200</td>\n",
              "      <td>711.000000</td>\n",
              "      <td>22.000000</td>\n",
              "    </tr>\n",
              "  </tbody>\n",
              "</table>\n",
              "</div>"
            ],
            "text/plain": [
              "             crim         tax     ptratio\n",
              "count  506.000000  506.000000  506.000000\n",
              "mean     3.613524  408.237154   18.455534\n",
              "std      8.601545  168.537116    2.164946\n",
              "min      0.006320  187.000000   12.600000\n",
              "25%      0.082045  279.000000   17.400000\n",
              "50%      0.256510  330.000000   19.050000\n",
              "75%      3.677082  666.000000   20.200000\n",
              "max     88.976200  711.000000   22.000000"
            ]
          },
          "metadata": {},
          "execution_count": 17
        }
      ]
    },
    {
      "cell_type": "markdown",
      "metadata": {
        "id": "SL-pAH5MbIRL"
      },
      "source": [
        "From above bar chart, Lands near to Boston employment center have high crime rates, tax rates, or pupil-teacher ratios.\n",
        "\n",
        "\n",
        "1.   The minimum crime rate is 0.00632, and maximum is 88.97620, with a median of 0.25651. \n",
        "2.   The minimum tax rate is \\$187, while the maximum is \\$711, with a median of \\$330. \n",
        "3.   The minimum pupil-teacher ratio is 12.60 pupils per teacher, while the maximum is 22, with a median of 19.05. "
      ]
    },
    {
      "cell_type": "markdown",
      "metadata": {
        "id": "ZoZza6f2dWpv"
      },
      "source": [
        "**e. How many of the suburbs in this data set bound the Charles river?**"
      ]
    },
    {
      "cell_type": "code",
      "metadata": {
        "colab": {
          "base_uri": "https://localhost:8080/"
        },
        "id": "Ib387jfSNS6A",
        "outputId": "44318806-3989-4345-b075-ba4f924a92d8"
      },
      "source": [
        "boston[\"chas\"].sum()"
      ],
      "execution_count": null,
      "outputs": [
        {
          "output_type": "execute_result",
          "data": {
            "text/plain": [
              "35"
            ]
          },
          "metadata": {},
          "execution_count": 30
        }
      ]
    },
    {
      "cell_type": "markdown",
      "metadata": {
        "id": "7Zg7G2uUP5ya"
      },
      "source": [
        "35 suburbs bound the Charles river."
      ]
    },
    {
      "cell_type": "markdown",
      "metadata": {
        "id": "bXAD3CHxd8xh"
      },
      "source": [
        "**f. What is the median pupil-teacher ratio among the towns in this data set?**"
      ]
    },
    {
      "cell_type": "code",
      "metadata": {
        "colab": {
          "base_uri": "https://localhost:8080/"
        },
        "id": "dl8ntyKeNTHR",
        "outputId": "8e0af033-bd69-438e-c04f-ec200c512bd7"
      },
      "source": [
        "boston[\"ptratio\"].describe()"
      ],
      "execution_count": null,
      "outputs": [
        {
          "output_type": "execute_result",
          "data": {
            "text/plain": [
              "count    506.000000\n",
              "mean      18.455534\n",
              "std        2.164946\n",
              "min       12.600000\n",
              "25%       17.400000\n",
              "50%       19.050000\n",
              "75%       20.200000\n",
              "max       22.000000\n",
              "Name: ptratio, dtype: float64"
            ]
          },
          "metadata": {},
          "execution_count": 31
        }
      ]
    },
    {
      "cell_type": "markdown",
      "metadata": {
        "id": "WWhLnW0-QaH_"
      },
      "source": [
        "The median pupil-teacher ratio among towns in this data set is 19.05 pupils per teacher."
      ]
    },
    {
      "cell_type": "markdown",
      "metadata": {
        "id": "Oa8V5RfaeNeX"
      },
      "source": [
        "**g. Which suburb of Boston has lowest median value of owner- occupied homes?  What arethe values of the other predictors for that suburb, and how do those values compare to the overallranges for those predictors?  Comment on your findings**"
      ]
    },
    {
      "cell_type": "code",
      "metadata": {
        "colab": {
          "base_uri": "https://localhost:8080/",
          "height": 111
        },
        "id": "W9hHmykBNTVH",
        "outputId": "94fee8d0-5c96-44a7-9198-6a731ec5b044"
      },
      "source": [
        "min_medv = boston[\"medv\"].min()\n",
        "boston[boston[\"medv\"] == min_medv]"
      ],
      "execution_count": null,
      "outputs": [
        {
          "output_type": "execute_result",
          "data": {
            "text/html": [
              "<div>\n",
              "<style scoped>\n",
              "    .dataframe tbody tr th:only-of-type {\n",
              "        vertical-align: middle;\n",
              "    }\n",
              "\n",
              "    .dataframe tbody tr th {\n",
              "        vertical-align: top;\n",
              "    }\n",
              "\n",
              "    .dataframe thead th {\n",
              "        text-align: right;\n",
              "    }\n",
              "</style>\n",
              "<table border=\"1\" class=\"dataframe\">\n",
              "  <thead>\n",
              "    <tr style=\"text-align: right;\">\n",
              "      <th></th>\n",
              "      <th>Unnamed: 0</th>\n",
              "      <th>crim</th>\n",
              "      <th>zn</th>\n",
              "      <th>indus</th>\n",
              "      <th>chas</th>\n",
              "      <th>nox</th>\n",
              "      <th>rm</th>\n",
              "      <th>age</th>\n",
              "      <th>dis</th>\n",
              "      <th>rad</th>\n",
              "      <th>tax</th>\n",
              "      <th>ptratio</th>\n",
              "      <th>black</th>\n",
              "      <th>lstat</th>\n",
              "      <th>medv</th>\n",
              "    </tr>\n",
              "  </thead>\n",
              "  <tbody>\n",
              "    <tr>\n",
              "      <th>398</th>\n",
              "      <td>399</td>\n",
              "      <td>38.3518</td>\n",
              "      <td>0.0</td>\n",
              "      <td>18.1</td>\n",
              "      <td>0</td>\n",
              "      <td>0.693</td>\n",
              "      <td>5.453</td>\n",
              "      <td>100.0</td>\n",
              "      <td>1.4896</td>\n",
              "      <td>24</td>\n",
              "      <td>666</td>\n",
              "      <td>20.2</td>\n",
              "      <td>396.90</td>\n",
              "      <td>30.59</td>\n",
              "      <td>5.0</td>\n",
              "    </tr>\n",
              "    <tr>\n",
              "      <th>405</th>\n",
              "      <td>406</td>\n",
              "      <td>67.9208</td>\n",
              "      <td>0.0</td>\n",
              "      <td>18.1</td>\n",
              "      <td>0</td>\n",
              "      <td>0.693</td>\n",
              "      <td>5.683</td>\n",
              "      <td>100.0</td>\n",
              "      <td>1.4254</td>\n",
              "      <td>24</td>\n",
              "      <td>666</td>\n",
              "      <td>20.2</td>\n",
              "      <td>384.97</td>\n",
              "      <td>22.98</td>\n",
              "      <td>5.0</td>\n",
              "    </tr>\n",
              "  </tbody>\n",
              "</table>\n",
              "</div>"
            ],
            "text/plain": [
              "     Unnamed: 0     crim   zn  indus  chas  ...  tax  ptratio   black  lstat  medv\n",
              "398         399  38.3518  0.0   18.1     0  ...  666     20.2  396.90  30.59   5.0\n",
              "405         406  67.9208  0.0   18.1     0  ...  666     20.2  384.97  22.98   5.0\n",
              "\n",
              "[2 rows x 15 columns]"
            ]
          },
          "metadata": {},
          "execution_count": 32
        }
      ]
    },
    {
      "cell_type": "code",
      "metadata": {
        "colab": {
          "base_uri": "https://localhost:8080/",
          "height": 334
        },
        "id": "wsmLtKv5fHk2",
        "outputId": "337b676a-c8f0-4046-b50c-5774e0461bc0"
      },
      "source": [
        "boston.describe()"
      ],
      "execution_count": null,
      "outputs": [
        {
          "output_type": "execute_result",
          "data": {
            "text/html": [
              "<div>\n",
              "<style scoped>\n",
              "    .dataframe tbody tr th:only-of-type {\n",
              "        vertical-align: middle;\n",
              "    }\n",
              "\n",
              "    .dataframe tbody tr th {\n",
              "        vertical-align: top;\n",
              "    }\n",
              "\n",
              "    .dataframe thead th {\n",
              "        text-align: right;\n",
              "    }\n",
              "</style>\n",
              "<table border=\"1\" class=\"dataframe\">\n",
              "  <thead>\n",
              "    <tr style=\"text-align: right;\">\n",
              "      <th></th>\n",
              "      <th>Unnamed: 0</th>\n",
              "      <th>crim</th>\n",
              "      <th>zn</th>\n",
              "      <th>indus</th>\n",
              "      <th>chas</th>\n",
              "      <th>nox</th>\n",
              "      <th>rm</th>\n",
              "      <th>age</th>\n",
              "      <th>dis</th>\n",
              "      <th>rad</th>\n",
              "      <th>tax</th>\n",
              "      <th>ptratio</th>\n",
              "      <th>black</th>\n",
              "      <th>lstat</th>\n",
              "      <th>medv</th>\n",
              "    </tr>\n",
              "  </thead>\n",
              "  <tbody>\n",
              "    <tr>\n",
              "      <th>count</th>\n",
              "      <td>506.000000</td>\n",
              "      <td>506.000000</td>\n",
              "      <td>506.000000</td>\n",
              "      <td>506.000000</td>\n",
              "      <td>506.000000</td>\n",
              "      <td>506.000000</td>\n",
              "      <td>506.000000</td>\n",
              "      <td>506.000000</td>\n",
              "      <td>506.000000</td>\n",
              "      <td>506.000000</td>\n",
              "      <td>506.000000</td>\n",
              "      <td>506.000000</td>\n",
              "      <td>506.000000</td>\n",
              "      <td>506.000000</td>\n",
              "      <td>506.000000</td>\n",
              "    </tr>\n",
              "    <tr>\n",
              "      <th>mean</th>\n",
              "      <td>253.500000</td>\n",
              "      <td>3.613524</td>\n",
              "      <td>11.363636</td>\n",
              "      <td>11.136779</td>\n",
              "      <td>0.069170</td>\n",
              "      <td>0.554695</td>\n",
              "      <td>6.284634</td>\n",
              "      <td>68.574901</td>\n",
              "      <td>3.795043</td>\n",
              "      <td>9.549407</td>\n",
              "      <td>408.237154</td>\n",
              "      <td>18.455534</td>\n",
              "      <td>356.674032</td>\n",
              "      <td>12.653063</td>\n",
              "      <td>22.532806</td>\n",
              "    </tr>\n",
              "    <tr>\n",
              "      <th>std</th>\n",
              "      <td>146.213884</td>\n",
              "      <td>8.601545</td>\n",
              "      <td>23.322453</td>\n",
              "      <td>6.860353</td>\n",
              "      <td>0.253994</td>\n",
              "      <td>0.115878</td>\n",
              "      <td>0.702617</td>\n",
              "      <td>28.148861</td>\n",
              "      <td>2.105710</td>\n",
              "      <td>8.707259</td>\n",
              "      <td>168.537116</td>\n",
              "      <td>2.164946</td>\n",
              "      <td>91.294864</td>\n",
              "      <td>7.141062</td>\n",
              "      <td>9.197104</td>\n",
              "    </tr>\n",
              "    <tr>\n",
              "      <th>min</th>\n",
              "      <td>1.000000</td>\n",
              "      <td>0.006320</td>\n",
              "      <td>0.000000</td>\n",
              "      <td>0.460000</td>\n",
              "      <td>0.000000</td>\n",
              "      <td>0.385000</td>\n",
              "      <td>3.561000</td>\n",
              "      <td>2.900000</td>\n",
              "      <td>1.129600</td>\n",
              "      <td>1.000000</td>\n",
              "      <td>187.000000</td>\n",
              "      <td>12.600000</td>\n",
              "      <td>0.320000</td>\n",
              "      <td>1.730000</td>\n",
              "      <td>5.000000</td>\n",
              "    </tr>\n",
              "    <tr>\n",
              "      <th>25%</th>\n",
              "      <td>127.250000</td>\n",
              "      <td>0.082045</td>\n",
              "      <td>0.000000</td>\n",
              "      <td>5.190000</td>\n",
              "      <td>0.000000</td>\n",
              "      <td>0.449000</td>\n",
              "      <td>5.885500</td>\n",
              "      <td>45.025000</td>\n",
              "      <td>2.100175</td>\n",
              "      <td>4.000000</td>\n",
              "      <td>279.000000</td>\n",
              "      <td>17.400000</td>\n",
              "      <td>375.377500</td>\n",
              "      <td>6.950000</td>\n",
              "      <td>17.025000</td>\n",
              "    </tr>\n",
              "    <tr>\n",
              "      <th>50%</th>\n",
              "      <td>253.500000</td>\n",
              "      <td>0.256510</td>\n",
              "      <td>0.000000</td>\n",
              "      <td>9.690000</td>\n",
              "      <td>0.000000</td>\n",
              "      <td>0.538000</td>\n",
              "      <td>6.208500</td>\n",
              "      <td>77.500000</td>\n",
              "      <td>3.207450</td>\n",
              "      <td>5.000000</td>\n",
              "      <td>330.000000</td>\n",
              "      <td>19.050000</td>\n",
              "      <td>391.440000</td>\n",
              "      <td>11.360000</td>\n",
              "      <td>21.200000</td>\n",
              "    </tr>\n",
              "    <tr>\n",
              "      <th>75%</th>\n",
              "      <td>379.750000</td>\n",
              "      <td>3.677082</td>\n",
              "      <td>12.500000</td>\n",
              "      <td>18.100000</td>\n",
              "      <td>0.000000</td>\n",
              "      <td>0.624000</td>\n",
              "      <td>6.623500</td>\n",
              "      <td>94.075000</td>\n",
              "      <td>5.188425</td>\n",
              "      <td>24.000000</td>\n",
              "      <td>666.000000</td>\n",
              "      <td>20.200000</td>\n",
              "      <td>396.225000</td>\n",
              "      <td>16.955000</td>\n",
              "      <td>25.000000</td>\n",
              "    </tr>\n",
              "    <tr>\n",
              "      <th>max</th>\n",
              "      <td>506.000000</td>\n",
              "      <td>88.976200</td>\n",
              "      <td>100.000000</td>\n",
              "      <td>27.740000</td>\n",
              "      <td>1.000000</td>\n",
              "      <td>0.871000</td>\n",
              "      <td>8.780000</td>\n",
              "      <td>100.000000</td>\n",
              "      <td>12.126500</td>\n",
              "      <td>24.000000</td>\n",
              "      <td>711.000000</td>\n",
              "      <td>22.000000</td>\n",
              "      <td>396.900000</td>\n",
              "      <td>37.970000</td>\n",
              "      <td>50.000000</td>\n",
              "    </tr>\n",
              "  </tbody>\n",
              "</table>\n",
              "</div>"
            ],
            "text/plain": [
              "       Unnamed: 0        crim          zn  ...       black       lstat        medv\n",
              "count  506.000000  506.000000  506.000000  ...  506.000000  506.000000  506.000000\n",
              "mean   253.500000    3.613524   11.363636  ...  356.674032   12.653063   22.532806\n",
              "std    146.213884    8.601545   23.322453  ...   91.294864    7.141062    9.197104\n",
              "min      1.000000    0.006320    0.000000  ...    0.320000    1.730000    5.000000\n",
              "25%    127.250000    0.082045    0.000000  ...  375.377500    6.950000   17.025000\n",
              "50%    253.500000    0.256510    0.000000  ...  391.440000   11.360000   21.200000\n",
              "75%    379.750000    3.677082   12.500000  ...  396.225000   16.955000   25.000000\n",
              "max    506.000000   88.976200  100.000000  ...  396.900000   37.970000   50.000000\n",
              "\n",
              "[8 rows x 15 columns]"
            ]
          },
          "metadata": {},
          "execution_count": 18
        }
      ]
    },
    {
      "cell_type": "markdown",
      "metadata": {
        "id": "6DPesEsYSJYL"
      },
      "source": [
        "Above two suburb of Boston has lowest median value of owner- occupied homes.\n",
        "\n",
        "For these suburbs overall range of other predictors are at extrem ends.\n",
        "\n",
        "for example\n",
        "Both of these suburbs have very high crime rates compared to the overall range for that variable,with values 38.3518 and 67.9208.\n",
        "both suburbs have a high proportion of lower status residents (values of 30.59 and 22.98)\n"
      ]
    },
    {
      "cell_type": "markdown",
      "metadata": {
        "id": "24F2zeZ-iB47"
      },
      "source": [
        "**h. In this data set, how many of the suburbs average more than seven rooms per dwelling?More than eight rooms per dwelling?  Comment on the suburbs that average more than eight roomsper dwelling.**"
      ]
    },
    {
      "cell_type": "code",
      "metadata": {
        "colab": {
          "base_uri": "https://localhost:8080/"
        },
        "id": "M4eaqEapSOT2",
        "outputId": "b432004c-0abe-40ea-daed-e0cdb1b8329a"
      },
      "source": [
        "print('Number of racts which average more than seven rooms per dwelling:',(boston[\"rm\"] > 7).sum() )"
      ],
      "execution_count": null,
      "outputs": [
        {
          "output_type": "stream",
          "name": "stdout",
          "text": [
            "Number of racts which average more than seven rooms per dwelling: 64\n"
          ]
        }
      ]
    },
    {
      "cell_type": "code",
      "metadata": {
        "colab": {
          "base_uri": "https://localhost:8080/"
        },
        "id": "zp-5bHLfSOne",
        "outputId": "57afa1c8-5d65-43fc-e2e3-3c8302f28689"
      },
      "source": [
        "print('Number of racts which average more than seven rooms per dwelling:',(boston[\"rm\"] > 8).sum() )"
      ],
      "execution_count": null,
      "outputs": [
        {
          "output_type": "stream",
          "name": "stdout",
          "text": [
            "Number of racts which average more than seven rooms per dwelling: 13\n"
          ]
        }
      ]
    },
    {
      "cell_type": "code",
      "metadata": {
        "colab": {
          "base_uri": "https://localhost:8080/",
          "height": 334
        },
        "id": "yDUMoj_iSO3Z",
        "outputId": "f1a6a38b-2c9a-439a-9d44-aa866d95db35"
      },
      "source": [
        "boston.loc[boston[\"rm\"] > 8].describe()"
      ],
      "execution_count": null,
      "outputs": [
        {
          "output_type": "execute_result",
          "data": {
            "text/html": [
              "<div>\n",
              "<style scoped>\n",
              "    .dataframe tbody tr th:only-of-type {\n",
              "        vertical-align: middle;\n",
              "    }\n",
              "\n",
              "    .dataframe tbody tr th {\n",
              "        vertical-align: top;\n",
              "    }\n",
              "\n",
              "    .dataframe thead th {\n",
              "        text-align: right;\n",
              "    }\n",
              "</style>\n",
              "<table border=\"1\" class=\"dataframe\">\n",
              "  <thead>\n",
              "    <tr style=\"text-align: right;\">\n",
              "      <th></th>\n",
              "      <th>Unnamed: 0</th>\n",
              "      <th>crim</th>\n",
              "      <th>zn</th>\n",
              "      <th>indus</th>\n",
              "      <th>chas</th>\n",
              "      <th>nox</th>\n",
              "      <th>rm</th>\n",
              "      <th>age</th>\n",
              "      <th>dis</th>\n",
              "      <th>rad</th>\n",
              "      <th>tax</th>\n",
              "      <th>ptratio</th>\n",
              "      <th>black</th>\n",
              "      <th>lstat</th>\n",
              "      <th>medv</th>\n",
              "    </tr>\n",
              "  </thead>\n",
              "  <tbody>\n",
              "    <tr>\n",
              "      <th>count</th>\n",
              "      <td>13.000000</td>\n",
              "      <td>13.000000</td>\n",
              "      <td>13.000000</td>\n",
              "      <td>13.000000</td>\n",
              "      <td>13.000000</td>\n",
              "      <td>13.000000</td>\n",
              "      <td>13.000000</td>\n",
              "      <td>13.000000</td>\n",
              "      <td>13.000000</td>\n",
              "      <td>13.000000</td>\n",
              "      <td>13.000000</td>\n",
              "      <td>13.000000</td>\n",
              "      <td>13.000000</td>\n",
              "      <td>13.000000</td>\n",
              "      <td>13.000000</td>\n",
              "    </tr>\n",
              "    <tr>\n",
              "      <th>mean</th>\n",
              "      <td>232.307692</td>\n",
              "      <td>0.718795</td>\n",
              "      <td>13.615385</td>\n",
              "      <td>7.078462</td>\n",
              "      <td>0.153846</td>\n",
              "      <td>0.539238</td>\n",
              "      <td>8.348538</td>\n",
              "      <td>71.538462</td>\n",
              "      <td>3.430192</td>\n",
              "      <td>7.461538</td>\n",
              "      <td>325.076923</td>\n",
              "      <td>16.361538</td>\n",
              "      <td>385.210769</td>\n",
              "      <td>4.310000</td>\n",
              "      <td>44.200000</td>\n",
              "    </tr>\n",
              "    <tr>\n",
              "      <th>std</th>\n",
              "      <td>60.915768</td>\n",
              "      <td>0.901640</td>\n",
              "      <td>26.298094</td>\n",
              "      <td>5.392767</td>\n",
              "      <td>0.375534</td>\n",
              "      <td>0.092352</td>\n",
              "      <td>0.251261</td>\n",
              "      <td>24.608723</td>\n",
              "      <td>1.883955</td>\n",
              "      <td>5.332532</td>\n",
              "      <td>110.971063</td>\n",
              "      <td>2.410580</td>\n",
              "      <td>10.529359</td>\n",
              "      <td>1.373566</td>\n",
              "      <td>8.092383</td>\n",
              "    </tr>\n",
              "    <tr>\n",
              "      <th>min</th>\n",
              "      <td>98.000000</td>\n",
              "      <td>0.020090</td>\n",
              "      <td>0.000000</td>\n",
              "      <td>2.680000</td>\n",
              "      <td>0.000000</td>\n",
              "      <td>0.416100</td>\n",
              "      <td>8.034000</td>\n",
              "      <td>8.400000</td>\n",
              "      <td>1.801000</td>\n",
              "      <td>2.000000</td>\n",
              "      <td>224.000000</td>\n",
              "      <td>13.000000</td>\n",
              "      <td>354.550000</td>\n",
              "      <td>2.470000</td>\n",
              "      <td>21.900000</td>\n",
              "    </tr>\n",
              "    <tr>\n",
              "      <th>25%</th>\n",
              "      <td>225.000000</td>\n",
              "      <td>0.331470</td>\n",
              "      <td>0.000000</td>\n",
              "      <td>3.970000</td>\n",
              "      <td>0.000000</td>\n",
              "      <td>0.504000</td>\n",
              "      <td>8.247000</td>\n",
              "      <td>70.400000</td>\n",
              "      <td>2.288500</td>\n",
              "      <td>5.000000</td>\n",
              "      <td>264.000000</td>\n",
              "      <td>14.700000</td>\n",
              "      <td>384.540000</td>\n",
              "      <td>3.320000</td>\n",
              "      <td>41.700000</td>\n",
              "    </tr>\n",
              "    <tr>\n",
              "      <th>50%</th>\n",
              "      <td>233.000000</td>\n",
              "      <td>0.520140</td>\n",
              "      <td>0.000000</td>\n",
              "      <td>6.200000</td>\n",
              "      <td>0.000000</td>\n",
              "      <td>0.507000</td>\n",
              "      <td>8.297000</td>\n",
              "      <td>78.300000</td>\n",
              "      <td>2.894400</td>\n",
              "      <td>7.000000</td>\n",
              "      <td>307.000000</td>\n",
              "      <td>17.400000</td>\n",
              "      <td>386.860000</td>\n",
              "      <td>4.140000</td>\n",
              "      <td>48.300000</td>\n",
              "    </tr>\n",
              "    <tr>\n",
              "      <th>75%</th>\n",
              "      <td>258.000000</td>\n",
              "      <td>0.578340</td>\n",
              "      <td>20.000000</td>\n",
              "      <td>6.200000</td>\n",
              "      <td>0.000000</td>\n",
              "      <td>0.605000</td>\n",
              "      <td>8.398000</td>\n",
              "      <td>86.500000</td>\n",
              "      <td>3.651900</td>\n",
              "      <td>8.000000</td>\n",
              "      <td>307.000000</td>\n",
              "      <td>17.400000</td>\n",
              "      <td>389.700000</td>\n",
              "      <td>5.120000</td>\n",
              "      <td>50.000000</td>\n",
              "    </tr>\n",
              "    <tr>\n",
              "      <th>max</th>\n",
              "      <td>365.000000</td>\n",
              "      <td>3.474280</td>\n",
              "      <td>95.000000</td>\n",
              "      <td>19.580000</td>\n",
              "      <td>1.000000</td>\n",
              "      <td>0.718000</td>\n",
              "      <td>8.780000</td>\n",
              "      <td>93.900000</td>\n",
              "      <td>8.906700</td>\n",
              "      <td>24.000000</td>\n",
              "      <td>666.000000</td>\n",
              "      <td>20.200000</td>\n",
              "      <td>396.900000</td>\n",
              "      <td>7.440000</td>\n",
              "      <td>50.000000</td>\n",
              "    </tr>\n",
              "  </tbody>\n",
              "</table>\n",
              "</div>"
            ],
            "text/plain": [
              "       Unnamed: 0       crim         zn  ...       black      lstat       medv\n",
              "count   13.000000  13.000000  13.000000  ...   13.000000  13.000000  13.000000\n",
              "mean   232.307692   0.718795  13.615385  ...  385.210769   4.310000  44.200000\n",
              "std     60.915768   0.901640  26.298094  ...   10.529359   1.373566   8.092383\n",
              "min     98.000000   0.020090   0.000000  ...  354.550000   2.470000  21.900000\n",
              "25%    225.000000   0.331470   0.000000  ...  384.540000   3.320000  41.700000\n",
              "50%    233.000000   0.520140   0.000000  ...  386.860000   4.140000  48.300000\n",
              "75%    258.000000   0.578340  20.000000  ...  389.700000   5.120000  50.000000\n",
              "max    365.000000   3.474280  95.000000  ...  396.900000   7.440000  50.000000\n",
              "\n",
              "[8 rows x 15 columns]"
            ]
          },
          "metadata": {},
          "execution_count": 19
        }
      ]
    },
    {
      "cell_type": "markdown",
      "metadata": {
        "id": "dRhx3K6sijy4"
      },
      "source": [
        "suburbs which have more than eight rooms per dwelling have low crime rates, low concentrations of nitric oxides, low number of Black residents, and low number of lower status residents."
      ]
    },
    {
      "cell_type": "markdown",
      "metadata": {
        "id": "dRc_MVIkUKbD"
      },
      "source": [
        "# **Problem 5**"
      ]
    },
    {
      "cell_type": "markdown",
      "metadata": {
        "id": "EtfVGhLZUPKx"
      },
      "source": [
        "**This problem involves the Boston data set. We want to predict per capita crime rate using the other\n",
        "variables in this data set. In other words, per capita crime rate is the response, and the other variables\n",
        "are the predictors.\n",
        "(a) (3 points) For each predictor, fit a simple linear regression model to predict the response. Describe\n",
        "your results. In which of the models is there a statistically significant association between the\n",
        "predictor and the response? Create some plots to back up your assertions.**"
      ]
    },
    {
      "cell_type": "code",
      "metadata": {
        "colab": {
          "base_uri": "https://localhost:8080/"
        },
        "id": "IYdlv-nGUc0g",
        "outputId": "a65f886b-3250-41d3-9af3-978143934d2a"
      },
      "source": [
        "y = boston['crim']\n",
        "X = boston[['zn']]\n",
        "X = sm.add_constant(X, prepend=True)\n",
        "model = sm.OLS(y, X)\n",
        "result = model.fit()\n",
        "print(result.summary())\n",
        "\n",
        "X = boston[['indus']]\n",
        "X = sm.add_constant(X, prepend=True)\n",
        "model = sm.OLS(y, X)\n",
        "result = model.fit()\n",
        "print(result.summary(),\"/n/n\")\n",
        "\n",
        "X = boston[['chas']]\n",
        "X = sm.add_constant(X, prepend=True)\n",
        "model = sm.OLS(y, X)\n",
        "result = model.fit()\n",
        "print(result.summary(),\"/n/n\")\n",
        "\n",
        "X = boston[['nox']]\n",
        "X = sm.add_constant(X, prepend=True)\n",
        "model = sm.OLS(y, X)\n",
        "result = model.fit()\n",
        "print(result.summary(),\"/n/n\")\n",
        "\n",
        "X = boston[['rm']]\n",
        "X = sm.add_constant(X, prepend=True)\n",
        "model = sm.OLS(y, X)\n",
        "result = model.fit()\n",
        "print(result.summary(),\"/n/n\")\n",
        "\n",
        "X = boston[['age']]\n",
        "X = sm.add_constant(X, prepend=True)\n",
        "model = sm.OLS(y, X)\n",
        "result = model.fit()\n",
        "print(result.summary(),\"/n/n\")\n",
        "\n",
        "X = boston[['dis']]\n",
        "X = sm.add_constant(X, prepend=True)\n",
        "model = sm.OLS(y, X)\n",
        "result = model.fit()\n",
        "print(result.summary(),\"/n/n\")\n",
        "\n",
        "X = boston[['rad']]\n",
        "X = sm.add_constant(X, prepend=True)\n",
        "model = sm.OLS(y, X)\n",
        "result = model.fit()\n",
        "print(result.summary(),\"/n/n\")\n",
        "\n",
        "X = boston[['tax']]\n",
        "X = sm.add_constant(X, prepend=True)\n",
        "model = sm.OLS(y, X)\n",
        "result = model.fit()\n",
        "print(result.summary(),\"/n/n\")\n",
        "\n",
        "X = boston[['ptratio']]\n",
        "X = sm.add_constant(X, prepend=True)\n",
        "model = sm.OLS(y, X)\n",
        "result = model.fit()\n",
        "print(result.summary(),\"/n/n\")\n",
        "\n",
        "X = boston[['black']]\n",
        "X = sm.add_constant(X, prepend=True)\n",
        "model = sm.OLS(y, X)\n",
        "result = model.fit()\n",
        "print(result.summary(),\"/n/n\")\n",
        "\n",
        "X = boston[['lstat']]\n",
        "X = sm.add_constant(X, prepend=True)\n",
        "model = sm.OLS(y, X)\n",
        "result = model.fit()\n",
        "print(result.summary(),\"/n/n\")\n",
        "\n"
      ],
      "execution_count": null,
      "outputs": [
        {
          "output_type": "stream",
          "name": "stdout",
          "text": [
            "                            OLS Regression Results                            \n",
            "==============================================================================\n",
            "Dep. Variable:                   crim   R-squared:                       0.040\n",
            "Model:                            OLS   Adj. R-squared:                  0.038\n",
            "Method:                 Least Squares   F-statistic:                     21.10\n",
            "Date:                Sun, 24 Oct 2021   Prob (F-statistic):           5.51e-06\n",
            "Time:                        01:13:01   Log-Likelihood:                -1796.0\n",
            "No. Observations:                 506   AIC:                             3596.\n",
            "Df Residuals:                     504   BIC:                             3604.\n",
            "Df Model:                           1                                         \n",
            "Covariance Type:            nonrobust                                         \n",
            "==============================================================================\n",
            "                 coef    std err          t      P>|t|      [0.025      0.975]\n",
            "------------------------------------------------------------------------------\n",
            "const          4.4537      0.417     10.675      0.000       3.634       5.273\n",
            "zn            -0.0739      0.016     -4.594      0.000      -0.106      -0.042\n",
            "==============================================================================\n",
            "Omnibus:                      567.443   Durbin-Watson:                   0.857\n",
            "Prob(Omnibus):                  0.000   Jarque-Bera (JB):            32753.004\n",
            "Skew:                           5.257   Prob(JB):                         0.00\n",
            "Kurtosis:                      40.986   Cond. No.                         28.8\n",
            "==============================================================================\n",
            "\n",
            "Warnings:\n",
            "[1] Standard Errors assume that the covariance matrix of the errors is correctly specified.\n",
            "                            OLS Regression Results                            \n",
            "==============================================================================\n",
            "Dep. Variable:                   crim   R-squared:                       0.165\n",
            "Model:                            OLS   Adj. R-squared:                  0.164\n",
            "Method:                 Least Squares   F-statistic:                     99.82\n",
            "Date:                Sun, 24 Oct 2021   Prob (F-statistic):           1.45e-21\n",
            "Time:                        01:13:01   Log-Likelihood:                -1760.6\n",
            "No. Observations:                 506   AIC:                             3525.\n",
            "Df Residuals:                     504   BIC:                             3534.\n",
            "Df Model:                           1                                         \n",
            "Covariance Type:            nonrobust                                         \n",
            "==============================================================================\n",
            "                 coef    std err          t      P>|t|      [0.025      0.975]\n",
            "------------------------------------------------------------------------------\n",
            "const         -2.0637      0.667     -3.093      0.002      -3.375      -0.753\n",
            "indus          0.5098      0.051      9.991      0.000       0.410       0.610\n",
            "==============================================================================\n",
            "Omnibus:                      585.118   Durbin-Watson:                   0.986\n",
            "Prob(Omnibus):                  0.000   Jarque-Bera (JB):            41418.938\n",
            "Skew:                           5.449   Prob(JB):                         0.00\n",
            "Kurtosis:                      45.962   Cond. No.                         25.1\n",
            "==============================================================================\n",
            "\n",
            "Warnings:\n",
            "[1] Standard Errors assume that the covariance matrix of the errors is correctly specified. /n/n\n",
            "                            OLS Regression Results                            \n",
            "==============================================================================\n",
            "Dep. Variable:                   crim   R-squared:                       0.003\n",
            "Model:                            OLS   Adj. R-squared:                  0.001\n",
            "Method:                 Least Squares   F-statistic:                     1.579\n",
            "Date:                Sun, 24 Oct 2021   Prob (F-statistic):              0.209\n",
            "Time:                        01:13:01   Log-Likelihood:                -1805.6\n",
            "No. Observations:                 506   AIC:                             3615.\n",
            "Df Residuals:                     504   BIC:                             3624.\n",
            "Df Model:                           1                                         \n",
            "Covariance Type:            nonrobust                                         \n",
            "==============================================================================\n",
            "                 coef    std err          t      P>|t|      [0.025      0.975]\n",
            "------------------------------------------------------------------------------\n",
            "const          3.7444      0.396      9.453      0.000       2.966       4.523\n",
            "chas          -1.8928      1.506     -1.257      0.209      -4.852       1.066\n",
            "==============================================================================\n",
            "Omnibus:                      561.663   Durbin-Watson:                   0.817\n",
            "Prob(Omnibus):                  0.000   Jarque-Bera (JB):            30645.429\n",
            "Skew:                           5.191   Prob(JB):                         0.00\n",
            "Kurtosis:                      39.685   Cond. No.                         3.96\n",
            "==============================================================================\n",
            "\n",
            "Warnings:\n",
            "[1] Standard Errors assume that the covariance matrix of the errors is correctly specified. /n/n\n",
            "                            OLS Regression Results                            \n",
            "==============================================================================\n",
            "Dep. Variable:                   crim   R-squared:                       0.177\n",
            "Model:                            OLS   Adj. R-squared:                  0.176\n",
            "Method:                 Least Squares   F-statistic:                     108.6\n",
            "Date:                Sun, 24 Oct 2021   Prob (F-statistic):           3.75e-23\n",
            "Time:                        01:13:01   Log-Likelihood:                -1757.0\n",
            "No. Observations:                 506   AIC:                             3518.\n",
            "Df Residuals:                     504   BIC:                             3526.\n",
            "Df Model:                           1                                         \n",
            "Covariance Type:            nonrobust                                         \n",
            "==============================================================================\n",
            "                 coef    std err          t      P>|t|      [0.025      0.975]\n",
            "------------------------------------------------------------------------------\n",
            "const        -13.7199      1.699     -8.073      0.000     -17.059     -10.381\n",
            "nox           31.2485      2.999     10.419      0.000      25.356      37.141\n",
            "==============================================================================\n",
            "Omnibus:                      591.712   Durbin-Watson:                   0.992\n",
            "Prob(Omnibus):                  0.000   Jarque-Bera (JB):            43138.106\n",
            "Skew:                           5.546   Prob(JB):                         0.00\n",
            "Kurtosis:                      46.852   Cond. No.                         11.3\n",
            "==============================================================================\n",
            "\n",
            "Warnings:\n",
            "[1] Standard Errors assume that the covariance matrix of the errors is correctly specified. /n/n\n",
            "                            OLS Regression Results                            \n",
            "==============================================================================\n",
            "Dep. Variable:                   crim   R-squared:                       0.048\n",
            "Model:                            OLS   Adj. R-squared:                  0.046\n",
            "Method:                 Least Squares   F-statistic:                     25.45\n",
            "Date:                Sun, 24 Oct 2021   Prob (F-statistic):           6.35e-07\n",
            "Time:                        01:13:01   Log-Likelihood:                -1793.9\n",
            "No. Observations:                 506   AIC:                             3592.\n",
            "Df Residuals:                     504   BIC:                             3600.\n",
            "Df Model:                           1                                         \n",
            "Covariance Type:            nonrobust                                         \n",
            "==============================================================================\n",
            "                 coef    std err          t      P>|t|      [0.025      0.975]\n",
            "------------------------------------------------------------------------------\n",
            "const         20.4818      3.364      6.088      0.000      13.872      27.092\n",
            "rm            -2.6841      0.532     -5.045      0.000      -3.729      -1.639\n",
            "==============================================================================\n",
            "Omnibus:                      575.717   Durbin-Watson:                   0.879\n",
            "Prob(Omnibus):                  0.000   Jarque-Bera (JB):            36658.093\n",
            "Skew:                           5.345   Prob(JB):                         0.00\n",
            "Kurtosis:                      43.305   Cond. No.                         58.4\n",
            "==============================================================================\n",
            "\n",
            "Warnings:\n",
            "[1] Standard Errors assume that the covariance matrix of the errors is correctly specified. /n/n\n",
            "                            OLS Regression Results                            \n",
            "==============================================================================\n",
            "Dep. Variable:                   crim   R-squared:                       0.124\n",
            "Model:                            OLS   Adj. R-squared:                  0.123\n",
            "Method:                 Least Squares   F-statistic:                     71.62\n",
            "Date:                Sun, 24 Oct 2021   Prob (F-statistic):           2.85e-16\n",
            "Time:                        01:13:01   Log-Likelihood:                -1772.7\n",
            "No. Observations:                 506   AIC:                             3549.\n",
            "Df Residuals:                     504   BIC:                             3558.\n",
            "Df Model:                           1                                         \n",
            "Covariance Type:            nonrobust                                         \n",
            "==============================================================================\n",
            "                 coef    std err          t      P>|t|      [0.025      0.975]\n",
            "------------------------------------------------------------------------------\n",
            "const         -3.7779      0.944     -4.002      0.000      -5.633      -1.923\n",
            "age            0.1078      0.013      8.463      0.000       0.083       0.133\n",
            "==============================================================================\n",
            "Omnibus:                      574.509   Durbin-Watson:                   0.956\n",
            "Prob(Omnibus):                  0.000   Jarque-Bera (JB):            36741.903\n",
            "Skew:                           5.322   Prob(JB):                         0.00\n",
            "Kurtosis:                      43.366   Cond. No.                         195.\n",
            "==============================================================================\n",
            "\n",
            "Warnings:\n",
            "[1] Standard Errors assume that the covariance matrix of the errors is correctly specified. /n/n\n",
            "                            OLS Regression Results                            \n",
            "==============================================================================\n",
            "Dep. Variable:                   crim   R-squared:                       0.144\n",
            "Model:                            OLS   Adj. R-squared:                  0.142\n",
            "Method:                 Least Squares   F-statistic:                     84.89\n",
            "Date:                Sun, 24 Oct 2021   Prob (F-statistic):           8.52e-19\n",
            "Time:                        01:13:01   Log-Likelihood:                -1767.0\n",
            "No. Observations:                 506   AIC:                             3538.\n",
            "Df Residuals:                     504   BIC:                             3546.\n",
            "Df Model:                           1                                         \n",
            "Covariance Type:            nonrobust                                         \n",
            "==============================================================================\n",
            "                 coef    std err          t      P>|t|      [0.025      0.975]\n",
            "------------------------------------------------------------------------------\n",
            "const          9.4993      0.730     13.006      0.000       8.064      10.934\n",
            "dis           -1.5509      0.168     -9.213      0.000      -1.882      -1.220\n",
            "==============================================================================\n",
            "Omnibus:                      576.519   Durbin-Watson:                   0.952\n",
            "Prob(Omnibus):                  0.000   Jarque-Bera (JB):            37426.729\n",
            "Skew:                           5.348   Prob(JB):                         0.00\n",
            "Kurtosis:                      43.753   Cond. No.                         9.32\n",
            "==============================================================================\n",
            "\n",
            "Warnings:\n",
            "[1] Standard Errors assume that the covariance matrix of the errors is correctly specified. /n/n\n",
            "                            OLS Regression Results                            \n",
            "==============================================================================\n",
            "Dep. Variable:                   crim   R-squared:                       0.391\n",
            "Model:                            OLS   Adj. R-squared:                  0.390\n",
            "Method:                 Least Squares   F-statistic:                     323.9\n",
            "Date:                Sun, 24 Oct 2021   Prob (F-statistic):           2.69e-56\n",
            "Time:                        01:13:01   Log-Likelihood:                -1680.8\n",
            "No. Observations:                 506   AIC:                             3366.\n",
            "Df Residuals:                     504   BIC:                             3374.\n",
            "Df Model:                           1                                         \n",
            "Covariance Type:            nonrobust                                         \n",
            "==============================================================================\n",
            "                 coef    std err          t      P>|t|      [0.025      0.975]\n",
            "------------------------------------------------------------------------------\n",
            "const         -2.2872      0.443     -5.157      0.000      -3.158      -1.416\n",
            "rad            0.6179      0.034     17.998      0.000       0.550       0.685\n",
            "==============================================================================\n",
            "Omnibus:                      656.459   Durbin-Watson:                   1.337\n",
            "Prob(Omnibus):                  0.000   Jarque-Bera (JB):            75417.007\n",
            "Skew:                           6.478   Prob(JB):                         0.00\n",
            "Kurtosis:                      61.389   Cond. No.                         19.2\n",
            "==============================================================================\n",
            "\n",
            "Warnings:\n",
            "[1] Standard Errors assume that the covariance matrix of the errors is correctly specified. /n/n\n",
            "                            OLS Regression Results                            \n",
            "==============================================================================\n",
            "Dep. Variable:                   crim   R-squared:                       0.340\n",
            "Model:                            OLS   Adj. R-squared:                  0.338\n",
            "Method:                 Least Squares   F-statistic:                     259.2\n",
            "Date:                Sun, 24 Oct 2021   Prob (F-statistic):           2.36e-47\n",
            "Time:                        01:13:01   Log-Likelihood:                -1701.4\n",
            "No. Observations:                 506   AIC:                             3407.\n",
            "Df Residuals:                     504   BIC:                             3415.\n",
            "Df Model:                           1                                         \n",
            "Covariance Type:            nonrobust                                         \n",
            "==============================================================================\n",
            "                 coef    std err          t      P>|t|      [0.025      0.975]\n",
            "------------------------------------------------------------------------------\n",
            "const         -8.5284      0.816    -10.454      0.000     -10.131      -6.926\n",
            "tax            0.0297      0.002     16.099      0.000       0.026       0.033\n",
            "==============================================================================\n",
            "Omnibus:                      635.377   Durbin-Watson:                   1.252\n",
            "Prob(Omnibus):                  0.000   Jarque-Bera (JB):            63763.835\n",
            "Skew:                           6.156   Prob(JB):                         0.00\n",
            "Kurtosis:                      56.599   Cond. No.                     1.16e+03\n",
            "==============================================================================\n",
            "\n",
            "Warnings:\n",
            "[1] Standard Errors assume that the covariance matrix of the errors is correctly specified.\n",
            "[2] The condition number is large, 1.16e+03. This might indicate that there are\n",
            "strong multicollinearity or other numerical problems. /n/n\n",
            "                            OLS Regression Results                            \n",
            "==============================================================================\n",
            "Dep. Variable:                   crim   R-squared:                       0.084\n",
            "Model:                            OLS   Adj. R-squared:                  0.082\n",
            "Method:                 Least Squares   F-statistic:                     46.26\n",
            "Date:                Sun, 24 Oct 2021   Prob (F-statistic):           2.94e-11\n",
            "Time:                        01:13:01   Log-Likelihood:                -1784.1\n",
            "No. Observations:                 506   AIC:                             3572.\n",
            "Df Residuals:                     504   BIC:                             3581.\n",
            "Df Model:                           1                                         \n",
            "Covariance Type:            nonrobust                                         \n",
            "==============================================================================\n",
            "                 coef    std err          t      P>|t|      [0.025      0.975]\n",
            "------------------------------------------------------------------------------\n",
            "const        -17.6469      3.147     -5.607      0.000     -23.830     -11.464\n",
            "ptratio        1.1520      0.169      6.801      0.000       0.819       1.485\n",
            "==============================================================================\n",
            "Omnibus:                      568.053   Durbin-Watson:                   0.905\n",
            "Prob(Omnibus):                  0.000   Jarque-Bera (JB):            34221.853\n",
            "Skew:                           5.245   Prob(JB):                         0.00\n",
            "Kurtosis:                      41.899   Cond. No.                         160.\n",
            "==============================================================================\n",
            "\n",
            "Warnings:\n",
            "[1] Standard Errors assume that the covariance matrix of the errors is correctly specified. /n/n\n",
            "                            OLS Regression Results                            \n",
            "==============================================================================\n",
            "Dep. Variable:                   crim   R-squared:                       0.148\n",
            "Model:                            OLS   Adj. R-squared:                  0.147\n",
            "Method:                 Least Squares   F-statistic:                     87.74\n",
            "Date:                Sun, 24 Oct 2021   Prob (F-statistic):           2.49e-19\n",
            "Time:                        01:13:01   Log-Likelihood:                -1765.8\n",
            "No. Observations:                 506   AIC:                             3536.\n",
            "Df Residuals:                     504   BIC:                             3544.\n",
            "Df Model:                           1                                         \n",
            "Covariance Type:            nonrobust                                         \n",
            "==============================================================================\n",
            "                 coef    std err          t      P>|t|      [0.025      0.975]\n",
            "------------------------------------------------------------------------------\n",
            "const         16.5535      1.426     11.609      0.000      13.752      19.355\n",
            "black         -0.0363      0.004     -9.367      0.000      -0.044      -0.029\n",
            "==============================================================================\n",
            "Omnibus:                      594.029   Durbin-Watson:                   0.994\n",
            "Prob(Omnibus):                  0.000   Jarque-Bera (JB):            44041.935\n",
            "Skew:                           5.578   Prob(JB):                         0.00\n",
            "Kurtosis:                      47.323   Cond. No.                     1.49e+03\n",
            "==============================================================================\n",
            "\n",
            "Warnings:\n",
            "[1] Standard Errors assume that the covariance matrix of the errors is correctly specified.\n",
            "[2] The condition number is large, 1.49e+03. This might indicate that there are\n",
            "strong multicollinearity or other numerical problems. /n/n\n",
            "                            OLS Regression Results                            \n",
            "==============================================================================\n",
            "Dep. Variable:                   crim   R-squared:                       0.208\n",
            "Model:                            OLS   Adj. R-squared:                  0.206\n",
            "Method:                 Least Squares   F-statistic:                     132.0\n",
            "Date:                Sun, 24 Oct 2021   Prob (F-statistic):           2.65e-27\n",
            "Time:                        01:13:01   Log-Likelihood:                -1747.5\n",
            "No. Observations:                 506   AIC:                             3499.\n",
            "Df Residuals:                     504   BIC:                             3507.\n",
            "Df Model:                           1                                         \n",
            "Covariance Type:            nonrobust                                         \n",
            "==============================================================================\n",
            "                 coef    std err          t      P>|t|      [0.025      0.975]\n",
            "------------------------------------------------------------------------------\n",
            "const         -3.3305      0.694     -4.801      0.000      -4.694      -1.968\n",
            "lstat          0.5488      0.048     11.491      0.000       0.455       0.643\n",
            "==============================================================================\n",
            "Omnibus:                      601.306   Durbin-Watson:                   1.182\n",
            "Prob(Omnibus):                  0.000   Jarque-Bera (JB):            49918.826\n",
            "Skew:                           5.645   Prob(JB):                         0.00\n",
            "Kurtosis:                      50.331   Cond. No.                         29.7\n",
            "==============================================================================\n",
            "\n",
            "Warnings:\n",
            "[1] Standard Errors assume that the covariance matrix of the errors is correctly specified. /n/n\n"
          ]
        }
      ]
    },
    {
      "cell_type": "markdown",
      "metadata": {
        "id": "_rcakBOzZ9lk"
      },
      "source": [
        "The p-values suggest that for the model with predictor CHAS, we can not reject the null hypothesis and hence the model is not significant. The pair plots shown in the below figure suggest the same."
      ]
    },
    {
      "cell_type": "code",
      "metadata": {
        "colab": {
          "base_uri": "https://localhost:8080/",
          "height": 214
        },
        "id": "-kWaLz5JaRIO",
        "outputId": "4463c077-b2cb-4375-d294-5ea6c8cc7141"
      },
      "source": [
        "sns.pairplot(boston, y_vars=['crim'], x_vars=['nox', 'rm', 'age', 'dis', 'lstat', 'chas','tax'])"
      ],
      "execution_count": null,
      "outputs": [
        {
          "output_type": "execute_result",
          "data": {
            "text/plain": [
              "<seaborn.axisgrid.PairGrid at 0x7feb7328bcd0>"
            ]
          },
          "metadata": {},
          "execution_count": 14
        },
        {
          "output_type": "display_data",
          "data": {
            "image/png": "[encoded data removed]",
            "text/plain": [
              "<Figure size 1260x180 with 7 Axes>"
            ]
          },
          "metadata": {
            "needs_background": "light"
          }
        }
      ]
    },
    {
      "cell_type": "markdown",
      "metadata": {
        "id": "U83Oj9yvarDN"
      },
      "source": [
        "**(b) Fit a multiple regression model to predict the response using all of the predictors. De-\n",
        "scribe your results. For which predictors can we reject the null hypothesis H0 : βj= 0?**"
      ]
    },
    {
      "cell_type": "code",
      "metadata": {
        "colab": {
          "base_uri": "https://localhost:8080/"
        },
        "id": "HdtK_TU5a4wf",
        "outputId": "38248b38-cbaa-4bd9-d691-38c08830e588"
      },
      "source": [
        "Y = boston['crim']\n",
        "X = boston[['zn', 'indus', 'chas', 'nox', 'rm', 'age', 'dis', 'rad', 'tax', 'ptratio', 'black', 'lstat']]\n",
        "X = sm.add_constant(X, prepend=True)\n",
        "model = sm.OLS(y, X)\n",
        "result1 = model.fit()\n",
        "print(result.summary())"
      ],
      "execution_count": null,
      "outputs": [
        {
          "output_type": "stream",
          "name": "stdout",
          "text": [
            "                            OLS Regression Results                            \n",
            "==============================================================================\n",
            "Dep. Variable:                   crim   R-squared:                       0.442\n",
            "Model:                            OLS   Adj. R-squared:                  0.428\n",
            "Method:                 Least Squares   F-statistic:                     32.55\n",
            "Date:                Sat, 23 Oct 2021   Prob (F-statistic):           4.84e-55\n",
            "Time:                        23:37:00   Log-Likelihood:                -1658.8\n",
            "No. Observations:                 506   AIC:                             3344.\n",
            "Df Residuals:                     493   BIC:                             3398.\n",
            "Df Model:                          12                                         \n",
            "Covariance Type:            nonrobust                                         \n",
            "==============================================================================\n",
            "                 coef    std err          t      P>|t|      [0.025      0.975]\n",
            "------------------------------------------------------------------------------\n",
            "const          9.9967      6.979      1.432      0.153      -3.716      23.709\n",
            "zn             0.0364      0.019      1.943      0.053      -0.000       0.073\n",
            "indus         -0.0694      0.084     -0.825      0.410      -0.235       0.096\n",
            "chas          -1.3117      1.179     -1.112      0.267      -3.629       1.005\n",
            "nox           -6.9288      5.225     -1.326      0.185     -17.195       3.338\n",
            "rm            -0.3348      0.573     -0.585      0.559      -1.460       0.790\n",
            "age            0.0013      0.018      0.074      0.941      -0.034       0.037\n",
            "dis           -0.7089      0.271     -2.612      0.009      -1.242      -0.176\n",
            "rad            0.5389      0.088      6.151      0.000       0.367       0.711\n",
            "tax           -0.0014      0.005     -0.263      0.793      -0.011       0.009\n",
            "ptratio       -0.0834      0.179     -0.465      0.642      -0.436       0.269\n",
            "black         -0.0096      0.004     -2.625      0.009      -0.017      -0.002\n",
            "lstat          0.2356      0.069      3.431      0.001       0.101       0.371\n",
            "==============================================================================\n",
            "Omnibus:                      685.174   Durbin-Watson:                   1.511\n",
            "Prob(Omnibus):                  0.000   Jarque-Bera (JB):            97204.794\n",
            "Skew:                           6.921   Prob(JB):                         0.00\n",
            "Kurtosis:                      69.475   Cond. No.                     1.51e+04\n",
            "==============================================================================\n",
            "\n",
            "Warnings:\n",
            "[1] Standard Errors assume that the covariance matrix of the errors is correctly specified.\n",
            "[2] The condition number is large, 1.51e+04. This might indicate that there are\n",
            "strong multicollinearity or other numerical problems.\n"
          ]
        }
      ]
    },
    {
      "cell_type": "markdown",
      "metadata": {
        "id": "ZRy810u_bSZJ"
      },
      "source": [
        "For the predictors DIS, RAD, BLACK, LSTAT, we can reject the null hypothesis as P-Value is less than 0.05."
      ]
    },
    {
      "cell_type": "markdown",
      "metadata": {
        "id": "wke21xAibZD0"
      },
      "source": [
        "**(c) How do your results from (a) compare to your results from (b)? Create a plot displaying\n",
        "the univariate regression coefficients from (a) on the x-axis, and the multiple regression coefficients\n",
        "from (b) on the y-axis. That is, each predictor is displayed as a single point in the plot. Its\n",
        "coefficient in a simple linear regression model is shown on the x-axis, and its coefficient estimate in\n",
        "the multiple linear regression model is shown on the y-axis.**"
      ]
    },
    {
      "cell_type": "code",
      "metadata": {
        "colab": {
          "base_uri": "https://localhost:8080/",
          "height": 402
        },
        "id": "yR_zeJLay4Nk",
        "outputId": "e1d78178-ac5c-4297-d871-03b6204d9461"
      },
      "source": [
        "uniReg=[-0.0739,0.5098,-1.8928,31.2485,-2.6841,0.1078,-1.5509,0.6179,0.0297,1.1520,-0.0363,0.5488]\n",
        "multiReg=[0.0364,-0.0694,-7.3117,-6.9288,0.3348,0.0013,-0.7089,0.5389,-0.0014,0.0834,-0.0096,0.2356]\n",
        "\n",
        "fig = plt.figure(figsize = (10, 5))\n",
        "ax = plt.axes()\n",
        "ax.scatter(uniReg, multiReg)\n",
        "xlimit = ax.get_xlim()\n",
        "ylimit = ax.get_ylim()\n",
        "ax.plot(xlimit, xlimit, color = \"orange\", linestyle = \"--\", linewidth = 2)\n",
        "ax.set(xlabel = \"Univariate regression coefficients\", ylabel = \"Multiple regression coefficients\",\n",
        "       xlim = xlimit, ylim = ylimit)"
      ],
      "execution_count": null,
      "outputs": [
        {
          "output_type": "execute_result",
          "data": {
            "text/plain": [
              "[(-7.70423, 0.9314300000000001),\n",
              " Text(0, 0.5, 'Multiple regression coefficients'),\n",
              " (-4.38073, 32.94513),\n",
              " Text(0.5, 0, 'Univariate regression coefficients')]"
            ]
          },
          "metadata": {},
          "execution_count": 72
        },
        {
          "output_type": "display_data",
          "data": {
            "image/png": "[encoded data removed]",
            "text/plain": [
              "<Figure size 720x360 with 1 Axes>"
            ]
          },
          "metadata": {
            "needs_background": "light"
          }
        }
      ]
    },
    {
      "cell_type": "markdown",
      "metadata": {
        "id": "Us4g1LAJ4ZpU"
      },
      "source": [
        "From above plot, some the coefficients increased between the univariate regressions and the multiple regression for some predictors, as some are on right side of orange line,\n",
        "Some predictors lie above and are on left side of orange line are still same in both regressions y=x. \n",
        "One predictor is decresed to ~-7"
      ]
    },
    {
      "cell_type": "markdown",
      "metadata": {
        "id": "RTFdZHMr65w8"
      },
      "source": [
        "**d.Is there evidence of non-linear association between any of the predictors and the re-\n",
        "sponse? To answer this question, for each predictor x, fit a model of the form\n",
        "y = β0 + β1x + β2x2 + β3x3 + e**"
      ]
    },
    {
      "cell_type": "markdown",
      "metadata": {
        "id": "Abr3XlD6GhKq"
      },
      "source": [
        "chas does not provide any additional information because chas have only two values: 1 if the town borders the Charles River or else 0. "
      ]
    },
    {
      "cell_type": "code",
      "metadata": {
        "colab": {
          "base_uri": "https://localhost:8080/"
        },
        "id": "fPSqNXfqF1lN",
        "outputId": "02522a45-2377-4b6b-8228-9c4051b118c8"
      },
      "source": [
        "predictors = boston.columns.drop(\"chas\")\n",
        "predictors"
      ],
      "execution_count": null,
      "outputs": [
        {
          "output_type": "execute_result",
          "data": {
            "text/plain": [
              "Index(['Unnamed: 0', 'crim', 'zn', 'indus', 'nox', 'rm', 'age', 'dis', 'rad',\n",
              "       'tax', 'ptratio', 'black', 'lstat', 'medv'],\n",
              "      dtype='object')"
            ]
          },
          "metadata": {},
          "execution_count": 71
        }
      ]
    },
    {
      "cell_type": "code",
      "metadata": {
        "colab": {
          "base_uri": "https://localhost:8080/"
        },
        "id": "DlPuj2ht9foG",
        "outputId": "32321aca-cd03-4369-c7a2-19d36ded601d"
      },
      "source": [
        "Boston_columns = predictors\n",
        "for t in Boston_columns:\n",
        "    reg = ols(\"crim~ boston[t]+I(pow(boston[t],2)) +\\\n",
        "              I(pow(boston[t],3))\", data = boston).fit()\n",
        "    print(reg.summary())"
      ],
      "execution_count": null,
      "outputs": [
        {
          "output_type": "stream",
          "name": "stdout",
          "text": [
            "                            OLS Regression Results                            \n",
            "==============================================================================\n",
            "Dep. Variable:                   crim   R-squared:                       0.229\n",
            "Model:                            OLS   Adj. R-squared:                  0.224\n",
            "Method:                 Least Squares   F-statistic:                     49.67\n",
            "Date:                Sun, 24 Oct 2021   Prob (F-statistic):           3.98e-28\n",
            "Time:                        02:20:32   Log-Likelihood:                -1740.6\n",
            "No. Observations:                 506   AIC:                             3489.\n",
            "Df Residuals:                     502   BIC:                             3506.\n",
            "Df Model:                           3                                         \n",
            "Covariance Type:            nonrobust                                         \n",
            "========================================================================================\n",
            "                           coef    std err          t      P>|t|      [0.025      0.975]\n",
            "----------------------------------------------------------------------------------------\n",
            "Intercept                4.8241      1.357      3.555      0.000       2.158       7.491\n",
            "boston[t]               -0.1234      0.023     -5.328      0.000      -0.169      -0.078\n",
            "I(pow(boston[t], 2))     0.0007      0.000      6.164      0.000       0.000       0.001\n",
            "I(pow(boston[t], 3)) -7.966e-07   1.38e-07     -5.791      0.000   -1.07e-06   -5.26e-07\n",
            "==============================================================================\n",
            "Omnibus:                      592.920   Durbin-Watson:                   1.052\n",
            "Prob(Omnibus):                  0.000   Jarque-Bera (JB):            45102.980\n",
            "Skew:                           5.545   Prob(JB):                         0.00\n",
            "Kurtosis:                      47.903   Cond. No.                     1.98e+08\n",
            "==============================================================================\n",
            "\n",
            "Warnings:\n",
            "[1] Standard Errors assume that the covariance matrix of the errors is correctly specified.\n",
            "[2] The condition number is large, 1.98e+08. This might indicate that there are\n",
            "strong multicollinearity or other numerical problems.\n",
            "                            OLS Regression Results                            \n",
            "==============================================================================\n",
            "Dep. Variable:                   crim   R-squared:                       1.000\n",
            "Model:                            OLS   Adj. R-squared:                  1.000\n",
            "Method:                 Least Squares   F-statistic:                 9.006e+26\n",
            "Date:                Sun, 24 Oct 2021   Prob (F-statistic):               0.00\n",
            "Time:                        02:20:32   Log-Likelihood:                 12601.\n",
            "No. Observations:                 506   AIC:                        -2.519e+04\n",
            "Df Residuals:                     502   BIC:                        -2.518e+04\n",
            "Df Model:                           3                                         \n",
            "Covariance Type:            nonrobust                                         \n",
            "========================================================================================\n",
            "                           coef    std err          t      P>|t|      [0.025      0.975]\n",
            "----------------------------------------------------------------------------------------\n",
            "Intercept             1.634e-12   1.98e-13      8.230      0.000    1.24e-12    2.02e-12\n",
            "boston[t]                1.0000   6.58e-14   1.52e+13      0.000       1.000       1.000\n",
            "I(pow(boston[t], 2))  7.352e-15    3.1e-15      2.369      0.018    1.26e-15    1.34e-14\n",
            "I(pow(boston[t], 3))   4.14e-17   3.03e-17      1.368      0.172   -1.81e-17    1.01e-16\n",
            "==============================================================================\n",
            "Omnibus:                      980.880   Durbin-Watson:                   1.785\n",
            "Prob(Omnibus):                  0.000   Jarque-Bera (JB):           903201.594\n",
            "Skew:                         -13.244   Prob(JB):                         0.00\n",
            "Kurtosis:                     208.275   Cond. No.                     4.82e+04\n",
            "==============================================================================\n",
            "\n",
            "Warnings:\n",
            "[1] Standard Errors assume that the covariance matrix of the errors is correctly specified.\n",
            "[2] The condition number is large, 4.82e+04. This might indicate that there are\n",
            "strong multicollinearity or other numerical problems.\n",
            "                            OLS Regression Results                            \n",
            "==============================================================================\n",
            "Dep. Variable:                   crim   R-squared:                       0.058\n",
            "Model:                            OLS   Adj. R-squared:                  0.053\n",
            "Method:                 Least Squares   F-statistic:                     10.35\n",
            "Date:                Sun, 24 Oct 2021   Prob (F-statistic):           1.28e-06\n",
            "Time:                        02:20:33   Log-Likelihood:                -1791.2\n",
            "No. Observations:                 506   AIC:                             3590.\n",
            "Df Residuals:                     502   BIC:                             3607.\n",
            "Df Model:                           3                                         \n",
            "Covariance Type:            nonrobust                                         \n",
            "========================================================================================\n",
            "                           coef    std err          t      P>|t|      [0.025      0.975]\n",
            "----------------------------------------------------------------------------------------\n",
            "Intercept                4.8461      0.433     11.192      0.000       3.995       5.697\n",
            "boston[t]               -0.3322      0.110     -3.025      0.003      -0.548      -0.116\n",
            "I(pow(boston[t], 2))     0.0065      0.004      1.679      0.094      -0.001       0.014\n",
            "I(pow(boston[t], 3)) -3.776e-05   3.14e-05     -1.203      0.230   -9.94e-05    2.39e-05\n",
            "==============================================================================\n",
            "Omnibus:                      569.133   Durbin-Watson:                   0.875\n",
            "Prob(Omnibus):                  0.000   Jarque-Bera (JB):            33700.991\n",
            "Skew:                           5.272   Prob(JB):                         0.00\n",
            "Kurtosis:                      41.565   Cond. No.                     1.89e+05\n",
            "==============================================================================\n",
            "\n",
            "Warnings:\n",
            "[1] Standard Errors assume that the covariance matrix of the errors is correctly specified.\n",
            "[2] The condition number is large, 1.89e+05. This might indicate that there are\n",
            "strong multicollinearity or other numerical problems.\n",
            "                            OLS Regression Results                            \n",
            "==============================================================================\n",
            "Dep. Variable:                   crim   R-squared:                       0.260\n",
            "Model:                            OLS   Adj. R-squared:                  0.255\n",
            "Method:                 Least Squares   F-statistic:                     58.69\n",
            "Date:                Sun, 24 Oct 2021   Prob (F-statistic):           1.55e-32\n",
            "Time:                        02:20:33   Log-Likelihood:                -1730.3\n",
            "No. Observations:                 506   AIC:                             3469.\n",
            "Df Residuals:                     502   BIC:                             3486.\n",
            "Df Model:                           3                                         \n",
            "Covariance Type:            nonrobust                                         \n",
            "========================================================================================\n",
            "                           coef    std err          t      P>|t|      [0.025      0.975]\n",
            "----------------------------------------------------------------------------------------\n",
            "Intercept                3.6626      1.574      2.327      0.020       0.570       6.755\n",
            "boston[t]               -1.9652      0.482     -4.077      0.000      -2.912      -1.018\n",
            "I(pow(boston[t], 2))     0.2519      0.039      6.407      0.000       0.175       0.329\n",
            "I(pow(boston[t], 3))    -0.0070      0.001     -7.292      0.000      -0.009      -0.005\n",
            "==============================================================================\n",
            "Omnibus:                      611.788   Durbin-Watson:                   1.116\n",
            "Prob(Omnibus):                  0.000   Jarque-Bera (JB):            51742.286\n",
            "Skew:                           5.820   Prob(JB):                         0.00\n",
            "Kurtosis:                      51.153   Cond. No.                     2.47e+04\n",
            "==============================================================================\n",
            "\n",
            "Warnings:\n",
            "[1] Standard Errors assume that the covariance matrix of the errors is correctly specified.\n",
            "[2] The condition number is large, 2.47e+04. This might indicate that there are\n",
            "strong multicollinearity or other numerical problems.\n",
            "                            OLS Regression Results                            \n",
            "==============================================================================\n",
            "Dep. Variable:                   crim   R-squared:                       0.297\n",
            "Model:                            OLS   Adj. R-squared:                  0.293\n",
            "Method:                 Least Squares   F-statistic:                     70.69\n",
            "Date:                Sun, 24 Oct 2021   Prob (F-statistic):           3.81e-38\n",
            "Time:                        02:20:33   Log-Likelihood:                -1717.2\n",
            "No. Observations:                 506   AIC:                             3442.\n",
            "Df Residuals:                     502   BIC:                             3459.\n",
            "Df Model:                           3                                         \n",
            "Covariance Type:            nonrobust                                         \n",
            "========================================================================================\n",
            "                           coef    std err          t      P>|t|      [0.025      0.975]\n",
            "----------------------------------------------------------------------------------------\n",
            "Intercept              233.0866     33.643      6.928      0.000     166.988     299.185\n",
            "boston[t]            -1279.3713    170.397     -7.508      0.000   -1614.151    -944.591\n",
            "I(pow(boston[t], 2))  2248.5441    279.899      8.033      0.000    1698.626    2798.462\n",
            "I(pow(boston[t], 3)) -1245.7029    149.282     -8.345      0.000   -1538.997    -952.409\n",
            "==============================================================================\n",
            "Omnibus:                      614.412   Durbin-Watson:                   1.159\n",
            "Prob(Omnibus):                  0.000   Jarque-Bera (JB):            53523.997\n",
            "Skew:                           5.851   Prob(JB):                         0.00\n",
            "Kurtosis:                      52.008   Cond. No.                     1.36e+03\n",
            "==============================================================================\n",
            "\n",
            "Warnings:\n",
            "[1] Standard Errors assume that the covariance matrix of the errors is correctly specified.\n",
            "[2] The condition number is large, 1.36e+03. This might indicate that there are\n",
            "strong multicollinearity or other numerical problems.\n",
            "                            OLS Regression Results                            \n",
            "==============================================================================\n",
            "Dep. Variable:                   crim   R-squared:                       0.068\n",
            "Model:                            OLS   Adj. R-squared:                  0.062\n",
            "Method:                 Least Squares   F-statistic:                     12.17\n",
            "Date:                Sun, 24 Oct 2021   Prob (F-statistic):           1.07e-07\n",
            "Time:                        02:20:33   Log-Likelihood:                -1788.6\n",
            "No. Observations:                 506   AIC:                             3585.\n",
            "Df Residuals:                     502   BIC:                             3602.\n",
            "Df Model:                           3                                         \n",
            "Covariance Type:            nonrobust                                         \n",
            "========================================================================================\n",
            "                           coef    std err          t      P>|t|      [0.025      0.975]\n",
            "----------------------------------------------------------------------------------------\n",
            "Intercept              112.6246     64.517      1.746      0.081     -14.132     239.382\n",
            "boston[t]              -39.1501     31.311     -1.250      0.212    -100.668      22.368\n",
            "I(pow(boston[t], 2))     4.5509      5.010      0.908      0.364      -5.292      14.394\n",
            "I(pow(boston[t], 3))    -0.1745      0.264     -0.662      0.509      -0.693       0.344\n",
            "==============================================================================\n",
            "Omnibus:                      585.097   Durbin-Watson:                   0.913\n",
            "Prob(Omnibus):                  0.000   Jarque-Bera (JB):            40144.207\n",
            "Skew:                           5.465   Prob(JB):                         0.00\n",
            "Kurtosis:                      45.245   Cond. No.                     5.36e+04\n",
            "==============================================================================\n",
            "\n",
            "Warnings:\n",
            "[1] Standard Errors assume that the covariance matrix of the errors is correctly specified.\n",
            "[2] The condition number is large, 5.36e+04. This might indicate that there are\n",
            "strong multicollinearity or other numerical problems.\n",
            "                            OLS Regression Results                            \n",
            "==============================================================================\n",
            "Dep. Variable:                   crim   R-squared:                       0.174\n",
            "Model:                            OLS   Adj. R-squared:                  0.169\n",
            "Method:                 Least Squares   F-statistic:                     35.31\n",
            "Date:                Sun, 24 Oct 2021   Prob (F-statistic):           1.02e-20\n",
            "Time:                        02:20:33   Log-Likelihood:                -1757.9\n",
            "No. Observations:                 506   AIC:                             3524.\n",
            "Df Residuals:                     502   BIC:                             3541.\n",
            "Df Model:                           3                                         \n",
            "Covariance Type:            nonrobust                                         \n",
            "========================================================================================\n",
            "                           coef    std err          t      P>|t|      [0.025      0.975]\n",
            "----------------------------------------------------------------------------------------\n",
            "Intercept               -2.5488      2.769     -0.920      0.358      -7.989       2.892\n",
            "boston[t]                0.2737      0.186      1.468      0.143      -0.093       0.640\n",
            "I(pow(boston[t], 2))    -0.0072      0.004     -1.988      0.047      -0.014    -8.4e-05\n",
            "I(pow(boston[t], 3))  5.745e-05   2.11e-05      2.724      0.007     1.6e-05    9.89e-05\n",
            "==============================================================================\n",
            "Omnibus:                      577.477   Durbin-Watson:                   1.025\n",
            "Prob(Omnibus):                  0.000   Jarque-Bera (JB):            39586.670\n",
            "Skew:                           5.336   Prob(JB):                         0.00\n",
            "Kurtosis:                      44.997   Cond. No.                     4.74e+06\n",
            "==============================================================================\n",
            "\n",
            "Warnings:\n",
            "[1] Standard Errors assume that the covariance matrix of the errors is correctly specified.\n",
            "[2] The condition number is large, 4.74e+06. This might indicate that there are\n",
            "strong multicollinearity or other numerical problems.\n",
            "                            OLS Regression Results                            \n",
            "==============================================================================\n",
            "Dep. Variable:                   crim   R-squared:                       0.278\n",
            "Model:                            OLS   Adj. R-squared:                  0.274\n",
            "Method:                 Least Squares   F-statistic:                     64.37\n",
            "Date:                Sun, 24 Oct 2021   Prob (F-statistic):           3.14e-35\n",
            "Time:                        02:20:33   Log-Likelihood:                -1724.0\n",
            "No. Observations:                 506   AIC:                             3456.\n",
            "Df Residuals:                     502   BIC:                             3473.\n",
            "Df Model:                           3                                         \n",
            "Covariance Type:            nonrobust                                         \n",
            "========================================================================================\n",
            "                           coef    std err          t      P>|t|      [0.025      0.975]\n",
            "----------------------------------------------------------------------------------------\n",
            "Intercept               30.0476      2.446     12.285      0.000      25.242      34.853\n",
            "boston[t]              -15.5544      1.736     -8.960      0.000     -18.965     -12.144\n",
            "I(pow(boston[t], 2))     2.4521      0.346      7.078      0.000       1.771       3.133\n",
            "I(pow(boston[t], 3))    -0.1186      0.020     -5.814      0.000      -0.159      -0.079\n",
            "==============================================================================\n",
            "Omnibus:                      577.742   Durbin-Watson:                   1.129\n",
            "Prob(Omnibus):                  0.000   Jarque-Bera (JB):            42444.706\n",
            "Skew:                           5.305   Prob(JB):                         0.00\n",
            "Kurtosis:                      46.596   Cond. No.                     2.10e+03\n",
            "==============================================================================\n",
            "\n",
            "Warnings:\n",
            "[1] Standard Errors assume that the covariance matrix of the errors is correctly specified.\n",
            "[2] The condition number is large, 2.1e+03. This might indicate that there are\n",
            "strong multicollinearity or other numerical problems.\n",
            "                            OLS Regression Results                            \n",
            "==============================================================================\n",
            "Dep. Variable:                   crim   R-squared:                       0.400\n",
            "Model:                            OLS   Adj. R-squared:                  0.396\n",
            "Method:                 Least Squares   F-statistic:                     111.6\n",
            "Date:                Sun, 24 Oct 2021   Prob (F-statistic):           2.31e-55\n",
            "Time:                        02:20:33   Log-Likelihood:                -1677.1\n",
            "No. Observations:                 506   AIC:                             3362.\n",
            "Df Residuals:                     502   BIC:                             3379.\n",
            "Df Model:                           3                                         \n",
            "Covariance Type:            nonrobust                                         \n",
            "========================================================================================\n",
            "                           coef    std err          t      P>|t|      [0.025      0.975]\n",
            "----------------------------------------------------------------------------------------\n",
            "Intercept               -0.6055      2.050     -0.295      0.768      -4.633       3.422\n",
            "boston[t]                0.5127      1.044      0.491      0.623      -1.538       2.563\n",
            "I(pow(boston[t], 2))    -0.0752      0.149     -0.506      0.613      -0.367       0.217\n",
            "I(pow(boston[t], 3))     0.0032      0.005      0.703      0.482      -0.006       0.012\n",
            "==============================================================================\n",
            "Omnibus:                      659.751   Durbin-Watson:                   1.351\n",
            "Prob(Omnibus):                  0.000   Jarque-Bera (JB):            77838.247\n",
            "Skew:                           6.526   Prob(JB):                         0.00\n",
            "Kurtosis:                      62.343   Cond. No.                     5.43e+04\n",
            "==============================================================================\n",
            "\n",
            "Warnings:\n",
            "[1] Standard Errors assume that the covariance matrix of the errors is correctly specified.\n",
            "[2] The condition number is large, 5.43e+04. This might indicate that there are\n",
            "strong multicollinearity or other numerical problems.\n",
            "                            OLS Regression Results                            \n",
            "==============================================================================\n",
            "Dep. Variable:                   crim   R-squared:                       0.369\n",
            "Model:                            OLS   Adj. R-squared:                  0.365\n",
            "Method:                 Least Squares   F-statistic:                     97.80\n",
            "Date:                Sun, 24 Oct 2021   Prob (F-statistic):           7.34e-50\n",
            "Time:                        02:20:33   Log-Likelihood:                -1689.9\n",
            "No. Observations:                 506   AIC:                             3388.\n",
            "Df Residuals:                     502   BIC:                             3405.\n",
            "Df Model:                           3                                         \n",
            "Covariance Type:            nonrobust                                         \n",
            "========================================================================================\n",
            "                           coef    std err          t      P>|t|      [0.025      0.975]\n",
            "----------------------------------------------------------------------------------------\n",
            "Intercept               19.1836     11.796      1.626      0.105      -3.991      42.358\n",
            "boston[t]               -0.1533      0.096     -1.602      0.110      -0.341       0.035\n",
            "I(pow(boston[t], 2))     0.0004      0.000      1.488      0.137      -0.000       0.001\n",
            "I(pow(boston[t], 3)) -2.204e-07   1.89e-07     -1.167      0.244   -5.91e-07    1.51e-07\n",
            "==============================================================================\n",
            "Omnibus:                      644.161   Durbin-Watson:                   1.293\n",
            "Prob(Omnibus):                  0.000   Jarque-Bera (JB):            69773.212\n",
            "Skew:                           6.278   Prob(JB):                         0.00\n",
            "Kurtosis:                      59.141   Cond. No.                     6.16e+09\n",
            "==============================================================================\n",
            "\n",
            "Warnings:\n",
            "[1] Standard Errors assume that the covariance matrix of the errors is correctly specified.\n",
            "[2] The condition number is large, 6.16e+09. This might indicate that there are\n",
            "strong multicollinearity or other numerical problems.\n",
            "                            OLS Regression Results                            \n",
            "==============================================================================\n",
            "Dep. Variable:                   crim   R-squared:                       0.114\n",
            "Model:                            OLS   Adj. R-squared:                  0.108\n",
            "Method:                 Least Squares   F-statistic:                     21.48\n",
            "Date:                Sun, 24 Oct 2021   Prob (F-statistic):           4.17e-13\n",
            "Time:                        02:20:33   Log-Likelihood:                -1775.8\n",
            "No. Observations:                 506   AIC:                             3560.\n",
            "Df Residuals:                     502   BIC:                             3577.\n",
            "Df Model:                           3                                         \n",
            "Covariance Type:            nonrobust                                         \n",
            "========================================================================================\n",
            "                           coef    std err          t      P>|t|      [0.025      0.975]\n",
            "----------------------------------------------------------------------------------------\n",
            "Intercept              477.1840    156.795      3.043      0.002     169.129     785.239\n",
            "boston[t]              -82.3605     27.644     -2.979      0.003    -136.673     -28.048\n",
            "I(pow(boston[t], 2))     4.6353      1.608      2.882      0.004       1.475       7.795\n",
            "I(pow(boston[t], 3))    -0.0848      0.031     -2.743      0.006      -0.145      -0.024\n",
            "==============================================================================\n",
            "Omnibus:                      572.356   Durbin-Watson:                   0.945\n",
            "Prob(Omnibus):                  0.000   Jarque-Bera (JB):            36070.763\n",
            "Skew:                           5.294   Prob(JB):                         0.00\n",
            "Kurtosis:                      42.985   Cond. No.                     3.02e+06\n",
            "==============================================================================\n",
            "\n",
            "Warnings:\n",
            "[1] Standard Errors assume that the covariance matrix of the errors is correctly specified.\n",
            "[2] The condition number is large, 3.02e+06. This might indicate that there are\n",
            "strong multicollinearity or other numerical problems.\n",
            "                            OLS Regression Results                            \n",
            "==============================================================================\n",
            "Dep. Variable:                   crim   R-squared:                       0.150\n",
            "Model:                            OLS   Adj. R-squared:                  0.145\n",
            "Method:                 Least Squares   F-statistic:                     29.49\n",
            "Date:                Sun, 24 Oct 2021   Prob (F-statistic):           1.41e-17\n",
            "Time:                        02:20:33   Log-Likelihood:                -1765.3\n",
            "No. Observations:                 506   AIC:                             3539.\n",
            "Df Residuals:                     502   BIC:                             3555.\n",
            "Df Model:                           3                                         \n",
            "Covariance Type:            nonrobust                                         \n",
            "========================================================================================\n",
            "                           coef    std err          t      P>|t|      [0.025      0.975]\n",
            "----------------------------------------------------------------------------------------\n",
            "Intercept               18.2637      2.305      7.924      0.000      13.735      22.792\n",
            "boston[t]               -0.0836      0.056     -1.483      0.139      -0.194       0.027\n",
            "I(pow(boston[t], 2))     0.0002      0.000      0.716      0.474      -0.000       0.001\n",
            "I(pow(boston[t], 3)) -2.652e-07   4.36e-07     -0.608      0.544   -1.12e-06    5.92e-07\n",
            "==============================================================================\n",
            "Omnibus:                      591.816   Durbin-Watson:                   0.983\n",
            "Prob(Omnibus):                  0.000   Jarque-Bera (JB):            43468.746\n",
            "Skew:                           5.544   Prob(JB):                         0.00\n",
            "Kurtosis:                      47.032   Cond. No.                     3.59e+08\n",
            "==============================================================================\n",
            "\n",
            "Warnings:\n",
            "[1] Standard Errors assume that the covariance matrix of the errors is correctly specified.\n",
            "[2] The condition number is large, 3.59e+08. This might indicate that there are\n",
            "strong multicollinearity or other numerical problems.\n",
            "                            OLS Regression Results                            \n",
            "==============================================================================\n",
            "Dep. Variable:                   crim   R-squared:                       0.218\n",
            "Model:                            OLS   Adj. R-squared:                  0.213\n",
            "Method:                 Least Squares   F-statistic:                     46.63\n",
            "Date:                Sun, 24 Oct 2021   Prob (F-statistic):           1.35e-26\n",
            "Time:                        02:20:33   Log-Likelihood:                -1744.2\n",
            "No. Observations:                 506   AIC:                             3496.\n",
            "Df Residuals:                     502   BIC:                             3513.\n",
            "Df Model:                           3                                         \n",
            "Covariance Type:            nonrobust                                         \n",
            "========================================================================================\n",
            "                           coef    std err          t      P>|t|      [0.025      0.975]\n",
            "----------------------------------------------------------------------------------------\n",
            "Intercept                1.2010      2.029      0.592      0.554      -2.785       5.187\n",
            "boston[t]               -0.4491      0.465     -0.966      0.335      -1.362       0.464\n",
            "I(pow(boston[t], 2))     0.0558      0.030      1.852      0.065      -0.003       0.115\n",
            "I(pow(boston[t], 3))    -0.0009      0.001     -1.517      0.130      -0.002       0.000\n",
            "==============================================================================\n",
            "Omnibus:                      607.734   Durbin-Watson:                   1.239\n",
            "Prob(Omnibus):                  0.000   Jarque-Bera (JB):            53621.219\n",
            "Skew:                           5.726   Prob(JB):                         0.00\n",
            "Kurtosis:                      52.114   Cond. No.                     5.20e+04\n",
            "==============================================================================\n",
            "\n",
            "Warnings:\n",
            "[1] Standard Errors assume that the covariance matrix of the errors is correctly specified.\n",
            "[2] The condition number is large, 5.2e+04. This might indicate that there are\n",
            "strong multicollinearity or other numerical problems.\n",
            "                            OLS Regression Results                            \n",
            "==============================================================================\n",
            "Dep. Variable:                   crim   R-squared:                       0.420\n",
            "Model:                            OLS   Adj. R-squared:                  0.417\n",
            "Method:                 Least Squares   F-statistic:                     121.3\n",
            "Date:                Sun, 24 Oct 2021   Prob (F-statistic):           4.45e-59\n",
            "Time:                        02:20:33   Log-Likelihood:                -1668.5\n",
            "No. Observations:                 506   AIC:                             3345.\n",
            "Df Residuals:                     502   BIC:                             3362.\n",
            "Df Model:                           3                                         \n",
            "Covariance Type:            nonrobust                                         \n",
            "========================================================================================\n",
            "                           coef    std err          t      P>|t|      [0.025      0.975]\n",
            "----------------------------------------------------------------------------------------\n",
            "Intercept               53.1655      3.356     15.840      0.000      46.571      59.760\n",
            "boston[t]               -5.0948      0.434    -11.744      0.000      -5.947      -4.242\n",
            "I(pow(boston[t], 2))     0.1555      0.017      9.046      0.000       0.122       0.189\n",
            "I(pow(boston[t], 3))    -0.0015      0.000     -7.312      0.000      -0.002      -0.001\n",
            "==============================================================================\n",
            "Omnibus:                      569.730   Durbin-Watson:                   1.359\n",
            "Prob(Omnibus):                  0.000   Jarque-Bera (JB):            47929.717\n",
            "Skew:                           5.106   Prob(JB):                         0.00\n",
            "Kurtosis:                      49.573   Cond. No.                     3.67e+05\n",
            "==============================================================================\n",
            "\n",
            "Warnings:\n",
            "[1] Standard Errors assume that the covariance matrix of the errors is correctly specified.\n",
            "[2] The condition number is large, 3.67e+05. This might indicate that there are\n",
            "strong multicollinearity or other numerical problems.\n"
          ]
        }
      ]
    },
    {
      "cell_type": "markdown",
      "metadata": {
        "id": "wWIMGxjlFZNK"
      },
      "source": [
        "From above result medv, indus, nox,dis, zn, rm, age, tax, and ptratio, rad, black, lstat have evidence of a non-linear relationship.\n",
        "but chas does not have any evidence of a non-linear relationship."
      ]
    }
  ]
}